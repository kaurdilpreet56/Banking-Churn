{
  "cells": [
    {
      "cell_type": "markdown",
      "metadata": {
        "id": "view-in-github",
        "colab_type": "text"
      },
      "source": [
        "<a href=\"https://colab.research.google.com/github/kaurdilpreet56/TelecomChurnCaseStudy/blob/main/Telecom_churn_case_study_Doubt_resolution.ipynb\" target=\"_parent\"><img src=\"https://colab.research.google.com/assets/colab-badge.svg\" alt=\"Open In Colab\"/></a>"
      ]
    },
    {
      "cell_type": "markdown",
      "id": "6d5d2eb9-f7fb-4b1d-bc36-9a7746373863",
      "metadata": {
        "id": "6d5d2eb9-f7fb-4b1d-bc36-9a7746373863"
      },
      "source": [
        "# Building Churn Prediction System for Customers"
      ]
    },
    {
      "cell_type": "markdown",
      "id": "c3f45928-e676-40c3-a562-a0158d70c729",
      "metadata": {
        "id": "c3f45928-e676-40c3-a562-a0158d70c729"
      },
      "source": [
        "## What is churn prediction ?\n",
        "* let’s take an example, suppose you have taken a premium subscription of the company product now you think that it’s time to leave the subscription, for this you will contact to the company, the company will try to offer some extra functionalities for not leaving the subscription. This is because it will be a loss for any industry that there is some percent of customers are not using their product.\n",
        "\n",
        "#### For prediction of this kind of situation, there is a data science team is present, that will predict the customer churn based on several features."
      ]
    },
    {
      "cell_type": "markdown",
      "id": "ad2fff72-d1e9-4a45-b27d-cde7c36bd2c7",
      "metadata": {
        "id": "ad2fff72-d1e9-4a45-b27d-cde7c36bd2c7"
      },
      "source": [
        "## Dataset\n",
        "\n",
        "* RowNumber—corresponds to the record (row) number and has no effect on the output.\n",
        "* CustomerId—contains random values and has no effect on customer leaving the bank.\n",
        "* Surname—the surname of a customer has no impact on their decision to leave the bank.\n",
        "* CreditScore—can have an effect on customer churn, since a customer with a higher credit score is less likely to leave the bank.\n",
        "* Geography—a customer’s location can affect their decision to leave the bank.\n",
        "* Gender—it’s interesting to explore whether gender plays a role in a customer leaving the bank.\n",
        "* Age—this is certainly relevant, since older customers are less likely to leave their bank than younger ones.\n",
        "* Tenure—refers to the number of years that the customer has been a client of the bank. Normally, older clients are more loyal and less likely to   leave a bank.\n",
        "* Balance—also a very good indicator of customer churn, as people with a higher balance in their accounts are less likely to leave the bank     compared to those with lower balances.\n",
        "* NumOfProducts—refers to the number of products that a customer has purchased through the bank.\n",
        "* HasCrCard—denotes whether or not a customer has a credit card. This column is also relevant, since people with a credit card are less likely to   leave the bank.\n",
        "* IsActiveMember—active customers are less likely to leave the bank.\n",
        "* EstimatedSalary—as with balance, people with lower salaries are more likely to leave the bank compared to those with higher salaries.\n",
        "* Exited—whether or not the customer left the bank."
      ]
    },
    {
      "cell_type": "markdown",
      "id": "c6b92e8c-f3d4-4a1a-a686-3b9bcbb0628a",
      "metadata": {
        "id": "c6b92e8c-f3d4-4a1a-a686-3b9bcbb0628a"
      },
      "source": [
        "Dataset Link: https://www.kaggle.com/datasets/sanamps/churn-modelling-with-ann"
      ]
    },
    {
      "cell_type": "code",
      "execution_count": null,
      "id": "d19837ed-93ac-4e16-9c77-42cc56a16f3e",
      "metadata": {
        "id": "d19837ed-93ac-4e16-9c77-42cc56a16f3e"
      },
      "outputs": [],
      "source": [
        "#Importing libraries\n",
        "import numpy as np\n",
        "import pandas as pd\n",
        "import matplotlib.pyplot as plt\n",
        "import seaborn as sns"
      ]
    },
    {
      "cell_type": "code",
      "source": [
        "data=\"https://raw.githubusercontent.com/deepakmoud/churnmodeling/main/Project7/Churn_Modelling.csv\""
      ],
      "metadata": {
        "id": "1fPe0koOGWfd"
      },
      "id": "1fPe0koOGWfd",
      "execution_count": null,
      "outputs": []
    },
    {
      "cell_type": "code",
      "execution_count": null,
      "id": "6a027204-f94c-425f-9db5-2f0ac2ce5de1",
      "metadata": {
        "colab": {
          "base_uri": "https://localhost:8080/",
          "height": 270
        },
        "id": "6a027204-f94c-425f-9db5-2f0ac2ce5de1",
        "outputId": "bae42ab7-f99e-4a20-896b-303c64d43ad6"
      },
      "outputs": [
        {
          "output_type": "execute_result",
          "data": {
            "text/plain": [
              "   RowNumber  CustomerId   Surname  CreditScore Geography  Gender  Age  \\\n",
              "0          1    15634602  Hargrave          619    France  Female   42   \n",
              "1          2    15647311      Hill          608     Spain  Female   41   \n",
              "2          3    15619304      Onio          502    France  Female   42   \n",
              "3          4    15701354      Boni          699    France  Female   39   \n",
              "4          5    15737888  Mitchell          850     Spain  Female   43   \n",
              "\n",
              "   Tenure    Balance  NumOfProducts  HasCrCard  IsActiveMember  \\\n",
              "0       2       0.00              1          1               1   \n",
              "1       1   83807.86              1          0               1   \n",
              "2       8  159660.80              3          1               0   \n",
              "3       1       0.00              2          0               0   \n",
              "4       2  125510.82              1          1               1   \n",
              "\n",
              "   EstimatedSalary  Exited  \n",
              "0        101348.88       1  \n",
              "1        112542.58       0  \n",
              "2        113931.57       1  \n",
              "3         93826.63       0  \n",
              "4         79084.10       0  "
            ],
            "text/html": [
              "\n",
              "  <div id=\"df-103bdc16-c6dd-42a1-b857-71cf91397ff3\">\n",
              "    <div class=\"colab-df-container\">\n",
              "      <div>\n",
              "<style scoped>\n",
              "    .dataframe tbody tr th:only-of-type {\n",
              "        vertical-align: middle;\n",
              "    }\n",
              "\n",
              "    .dataframe tbody tr th {\n",
              "        vertical-align: top;\n",
              "    }\n",
              "\n",
              "    .dataframe thead th {\n",
              "        text-align: right;\n",
              "    }\n",
              "</style>\n",
              "<table border=\"1\" class=\"dataframe\">\n",
              "  <thead>\n",
              "    <tr style=\"text-align: right;\">\n",
              "      <th></th>\n",
              "      <th>RowNumber</th>\n",
              "      <th>CustomerId</th>\n",
              "      <th>Surname</th>\n",
              "      <th>CreditScore</th>\n",
              "      <th>Geography</th>\n",
              "      <th>Gender</th>\n",
              "      <th>Age</th>\n",
              "      <th>Tenure</th>\n",
              "      <th>Balance</th>\n",
              "      <th>NumOfProducts</th>\n",
              "      <th>HasCrCard</th>\n",
              "      <th>IsActiveMember</th>\n",
              "      <th>EstimatedSalary</th>\n",
              "      <th>Exited</th>\n",
              "    </tr>\n",
              "  </thead>\n",
              "  <tbody>\n",
              "    <tr>\n",
              "      <th>0</th>\n",
              "      <td>1</td>\n",
              "      <td>15634602</td>\n",
              "      <td>Hargrave</td>\n",
              "      <td>619</td>\n",
              "      <td>France</td>\n",
              "      <td>Female</td>\n",
              "      <td>42</td>\n",
              "      <td>2</td>\n",
              "      <td>0.00</td>\n",
              "      <td>1</td>\n",
              "      <td>1</td>\n",
              "      <td>1</td>\n",
              "      <td>101348.88</td>\n",
              "      <td>1</td>\n",
              "    </tr>\n",
              "    <tr>\n",
              "      <th>1</th>\n",
              "      <td>2</td>\n",
              "      <td>15647311</td>\n",
              "      <td>Hill</td>\n",
              "      <td>608</td>\n",
              "      <td>Spain</td>\n",
              "      <td>Female</td>\n",
              "      <td>41</td>\n",
              "      <td>1</td>\n",
              "      <td>83807.86</td>\n",
              "      <td>1</td>\n",
              "      <td>0</td>\n",
              "      <td>1</td>\n",
              "      <td>112542.58</td>\n",
              "      <td>0</td>\n",
              "    </tr>\n",
              "    <tr>\n",
              "      <th>2</th>\n",
              "      <td>3</td>\n",
              "      <td>15619304</td>\n",
              "      <td>Onio</td>\n",
              "      <td>502</td>\n",
              "      <td>France</td>\n",
              "      <td>Female</td>\n",
              "      <td>42</td>\n",
              "      <td>8</td>\n",
              "      <td>159660.80</td>\n",
              "      <td>3</td>\n",
              "      <td>1</td>\n",
              "      <td>0</td>\n",
              "      <td>113931.57</td>\n",
              "      <td>1</td>\n",
              "    </tr>\n",
              "    <tr>\n",
              "      <th>3</th>\n",
              "      <td>4</td>\n",
              "      <td>15701354</td>\n",
              "      <td>Boni</td>\n",
              "      <td>699</td>\n",
              "      <td>France</td>\n",
              "      <td>Female</td>\n",
              "      <td>39</td>\n",
              "      <td>1</td>\n",
              "      <td>0.00</td>\n",
              "      <td>2</td>\n",
              "      <td>0</td>\n",
              "      <td>0</td>\n",
              "      <td>93826.63</td>\n",
              "      <td>0</td>\n",
              "    </tr>\n",
              "    <tr>\n",
              "      <th>4</th>\n",
              "      <td>5</td>\n",
              "      <td>15737888</td>\n",
              "      <td>Mitchell</td>\n",
              "      <td>850</td>\n",
              "      <td>Spain</td>\n",
              "      <td>Female</td>\n",
              "      <td>43</td>\n",
              "      <td>2</td>\n",
              "      <td>125510.82</td>\n",
              "      <td>1</td>\n",
              "      <td>1</td>\n",
              "      <td>1</td>\n",
              "      <td>79084.10</td>\n",
              "      <td>0</td>\n",
              "    </tr>\n",
              "  </tbody>\n",
              "</table>\n",
              "</div>\n",
              "      <button class=\"colab-df-convert\" onclick=\"convertToInteractive('df-103bdc16-c6dd-42a1-b857-71cf91397ff3')\"\n",
              "              title=\"Convert this dataframe to an interactive table.\"\n",
              "              style=\"display:none;\">\n",
              "        \n",
              "  <svg xmlns=\"http://www.w3.org/2000/svg\" height=\"24px\"viewBox=\"0 0 24 24\"\n",
              "       width=\"24px\">\n",
              "    <path d=\"M0 0h24v24H0V0z\" fill=\"none\"/>\n",
              "    <path d=\"M18.56 5.44l.94 2.06.94-2.06 2.06-.94-2.06-.94-.94-2.06-.94 2.06-2.06.94zm-11 1L8.5 8.5l.94-2.06 2.06-.94-2.06-.94L8.5 2.5l-.94 2.06-2.06.94zm10 10l.94 2.06.94-2.06 2.06-.94-2.06-.94-.94-2.06-.94 2.06-2.06.94z\"/><path d=\"M17.41 7.96l-1.37-1.37c-.4-.4-.92-.59-1.43-.59-.52 0-1.04.2-1.43.59L10.3 9.45l-7.72 7.72c-.78.78-.78 2.05 0 2.83L4 21.41c.39.39.9.59 1.41.59.51 0 1.02-.2 1.41-.59l7.78-7.78 2.81-2.81c.8-.78.8-2.07 0-2.86zM5.41 20L4 18.59l7.72-7.72 1.47 1.35L5.41 20z\"/>\n",
              "  </svg>\n",
              "      </button>\n",
              "      \n",
              "  <style>\n",
              "    .colab-df-container {\n",
              "      display:flex;\n",
              "      flex-wrap:wrap;\n",
              "      gap: 12px;\n",
              "    }\n",
              "\n",
              "    .colab-df-convert {\n",
              "      background-color: #E8F0FE;\n",
              "      border: none;\n",
              "      border-radius: 50%;\n",
              "      cursor: pointer;\n",
              "      display: none;\n",
              "      fill: #1967D2;\n",
              "      height: 32px;\n",
              "      padding: 0 0 0 0;\n",
              "      width: 32px;\n",
              "    }\n",
              "\n",
              "    .colab-df-convert:hover {\n",
              "      background-color: #E2EBFA;\n",
              "      box-shadow: 0px 1px 2px rgba(60, 64, 67, 0.3), 0px 1px 3px 1px rgba(60, 64, 67, 0.15);\n",
              "      fill: #174EA6;\n",
              "    }\n",
              "\n",
              "    [theme=dark] .colab-df-convert {\n",
              "      background-color: #3B4455;\n",
              "      fill: #D2E3FC;\n",
              "    }\n",
              "\n",
              "    [theme=dark] .colab-df-convert:hover {\n",
              "      background-color: #434B5C;\n",
              "      box-shadow: 0px 1px 3px 1px rgba(0, 0, 0, 0.15);\n",
              "      filter: drop-shadow(0px 1px 2px rgba(0, 0, 0, 0.3));\n",
              "      fill: #FFFFFF;\n",
              "    }\n",
              "  </style>\n",
              "\n",
              "      <script>\n",
              "        const buttonEl =\n",
              "          document.querySelector('#df-103bdc16-c6dd-42a1-b857-71cf91397ff3 button.colab-df-convert');\n",
              "        buttonEl.style.display =\n",
              "          google.colab.kernel.accessAllowed ? 'block' : 'none';\n",
              "\n",
              "        async function convertToInteractive(key) {\n",
              "          const element = document.querySelector('#df-103bdc16-c6dd-42a1-b857-71cf91397ff3');\n",
              "          const dataTable =\n",
              "            await google.colab.kernel.invokeFunction('convertToInteractive',\n",
              "                                                     [key], {});\n",
              "          if (!dataTable) return;\n",
              "\n",
              "          const docLinkHtml = 'Like what you see? Visit the ' +\n",
              "            '<a target=\"_blank\" href=https://colab.research.google.com/notebooks/data_table.ipynb>data table notebook</a>'\n",
              "            + ' to learn more about interactive tables.';\n",
              "          element.innerHTML = '';\n",
              "          dataTable['output_type'] = 'display_data';\n",
              "          await google.colab.output.renderOutput(dataTable, element);\n",
              "          const docLink = document.createElement('div');\n",
              "          docLink.innerHTML = docLinkHtml;\n",
              "          element.appendChild(docLink);\n",
              "        }\n",
              "      </script>\n",
              "    </div>\n",
              "  </div>\n",
              "  "
            ]
          },
          "metadata": {},
          "execution_count": 4
        }
      ],
      "source": [
        "#importing the dataset\n",
        "dataset = pd.read_csv(data)\n",
        "dataset.head()"
      ]
    },
    {
      "cell_type": "code",
      "execution_count": null,
      "id": "a7215d7c-5d48-4d87-baa4-a43eea926a96",
      "metadata": {
        "colab": {
          "base_uri": "https://localhost:8080/"
        },
        "id": "a7215d7c-5d48-4d87-baa4-a43eea926a96",
        "outputId": "603749a1-6593-443f-debc-ac50ba36b2b3"
      },
      "outputs": [
        {
          "output_type": "execute_result",
          "data": {
            "text/plain": [
              "(10000, 14)"
            ]
          },
          "metadata": {},
          "execution_count": 4
        }
      ],
      "source": [
        "dataset.shape"
      ]
    },
    {
      "cell_type": "code",
      "execution_count": null,
      "id": "c1625925-3598-4278-9d84-17e191871917",
      "metadata": {
        "tags": [],
        "colab": {
          "base_uri": "https://localhost:8080/"
        },
        "id": "c1625925-3598-4278-9d84-17e191871917",
        "outputId": "c6ded16e-a3a2-4c1b-ece8-e59efaaa9527"
      },
      "outputs": [
        {
          "output_type": "stream",
          "name": "stdout",
          "text": [
            "<class 'pandas.core.frame.DataFrame'>\n",
            "RangeIndex: 10000 entries, 0 to 9999\n",
            "Data columns (total 14 columns):\n",
            " #   Column           Non-Null Count  Dtype  \n",
            "---  ------           --------------  -----  \n",
            " 0   RowNumber        10000 non-null  int64  \n",
            " 1   CustomerId       10000 non-null  int64  \n",
            " 2   Surname          10000 non-null  object \n",
            " 3   CreditScore      10000 non-null  int64  \n",
            " 4   Geography        10000 non-null  object \n",
            " 5   Gender           10000 non-null  object \n",
            " 6   Age              10000 non-null  int64  \n",
            " 7   Tenure           10000 non-null  int64  \n",
            " 8   Balance          10000 non-null  float64\n",
            " 9   NumOfProducts    10000 non-null  int64  \n",
            " 10  HasCrCard        10000 non-null  int64  \n",
            " 11  IsActiveMember   10000 non-null  int64  \n",
            " 12  EstimatedSalary  10000 non-null  float64\n",
            " 13  Exited           10000 non-null  int64  \n",
            "dtypes: float64(2), int64(9), object(3)\n",
            "memory usage: 1.1+ MB\n"
          ]
        }
      ],
      "source": [
        "dataset.info()"
      ]
    },
    {
      "cell_type": "code",
      "execution_count": null,
      "id": "4377787d-89c1-489e-a617-e6c1f547e948",
      "metadata": {
        "tags": [],
        "colab": {
          "base_uri": "https://localhost:8080/",
          "height": 364
        },
        "id": "4377787d-89c1-489e-a617-e6c1f547e948",
        "outputId": "0b97193d-c58d-437a-ee67-74cbc031a7b3"
      },
      "outputs": [
        {
          "output_type": "execute_result",
          "data": {
            "text/plain": [
              "         RowNumber    CustomerId   CreditScore           Age        Tenure  \\\n",
              "count  10000.00000  1.000000e+04  10000.000000  10000.000000  10000.000000   \n",
              "mean    5000.50000  1.569094e+07    650.528800     38.921800      5.012800   \n",
              "std     2886.89568  7.193619e+04     96.653299     10.487806      2.892174   \n",
              "min        1.00000  1.556570e+07    350.000000     18.000000      0.000000   \n",
              "25%     2500.75000  1.562853e+07    584.000000     32.000000      3.000000   \n",
              "50%     5000.50000  1.569074e+07    652.000000     37.000000      5.000000   \n",
              "75%     7500.25000  1.575323e+07    718.000000     44.000000      7.000000   \n",
              "max    10000.00000  1.581569e+07    850.000000     92.000000     10.000000   \n",
              "\n",
              "             Balance  NumOfProducts    HasCrCard  IsActiveMember  \\\n",
              "count   10000.000000   10000.000000  10000.00000    10000.000000   \n",
              "mean    76485.889288       1.530200      0.70550        0.515100   \n",
              "std     62397.405202       0.581654      0.45584        0.499797   \n",
              "min         0.000000       1.000000      0.00000        0.000000   \n",
              "25%         0.000000       1.000000      0.00000        0.000000   \n",
              "50%     97198.540000       1.000000      1.00000        1.000000   \n",
              "75%    127644.240000       2.000000      1.00000        1.000000   \n",
              "max    250898.090000       4.000000      1.00000        1.000000   \n",
              "\n",
              "       EstimatedSalary        Exited  \n",
              "count     10000.000000  10000.000000  \n",
              "mean     100090.239881      0.203700  \n",
              "std       57510.492818      0.402769  \n",
              "min          11.580000      0.000000  \n",
              "25%       51002.110000      0.000000  \n",
              "50%      100193.915000      0.000000  \n",
              "75%      149388.247500      0.000000  \n",
              "max      199992.480000      1.000000  "
            ],
            "text/html": [
              "\n",
              "  <div id=\"df-46720156-c882-48ff-9e38-8c2722299c71\">\n",
              "    <div class=\"colab-df-container\">\n",
              "      <div>\n",
              "<style scoped>\n",
              "    .dataframe tbody tr th:only-of-type {\n",
              "        vertical-align: middle;\n",
              "    }\n",
              "\n",
              "    .dataframe tbody tr th {\n",
              "        vertical-align: top;\n",
              "    }\n",
              "\n",
              "    .dataframe thead th {\n",
              "        text-align: right;\n",
              "    }\n",
              "</style>\n",
              "<table border=\"1\" class=\"dataframe\">\n",
              "  <thead>\n",
              "    <tr style=\"text-align: right;\">\n",
              "      <th></th>\n",
              "      <th>RowNumber</th>\n",
              "      <th>CustomerId</th>\n",
              "      <th>CreditScore</th>\n",
              "      <th>Age</th>\n",
              "      <th>Tenure</th>\n",
              "      <th>Balance</th>\n",
              "      <th>NumOfProducts</th>\n",
              "      <th>HasCrCard</th>\n",
              "      <th>IsActiveMember</th>\n",
              "      <th>EstimatedSalary</th>\n",
              "      <th>Exited</th>\n",
              "    </tr>\n",
              "  </thead>\n",
              "  <tbody>\n",
              "    <tr>\n",
              "      <th>count</th>\n",
              "      <td>10000.00000</td>\n",
              "      <td>1.000000e+04</td>\n",
              "      <td>10000.000000</td>\n",
              "      <td>10000.000000</td>\n",
              "      <td>10000.000000</td>\n",
              "      <td>10000.000000</td>\n",
              "      <td>10000.000000</td>\n",
              "      <td>10000.00000</td>\n",
              "      <td>10000.000000</td>\n",
              "      <td>10000.000000</td>\n",
              "      <td>10000.000000</td>\n",
              "    </tr>\n",
              "    <tr>\n",
              "      <th>mean</th>\n",
              "      <td>5000.50000</td>\n",
              "      <td>1.569094e+07</td>\n",
              "      <td>650.528800</td>\n",
              "      <td>38.921800</td>\n",
              "      <td>5.012800</td>\n",
              "      <td>76485.889288</td>\n",
              "      <td>1.530200</td>\n",
              "      <td>0.70550</td>\n",
              "      <td>0.515100</td>\n",
              "      <td>100090.239881</td>\n",
              "      <td>0.203700</td>\n",
              "    </tr>\n",
              "    <tr>\n",
              "      <th>std</th>\n",
              "      <td>2886.89568</td>\n",
              "      <td>7.193619e+04</td>\n",
              "      <td>96.653299</td>\n",
              "      <td>10.487806</td>\n",
              "      <td>2.892174</td>\n",
              "      <td>62397.405202</td>\n",
              "      <td>0.581654</td>\n",
              "      <td>0.45584</td>\n",
              "      <td>0.499797</td>\n",
              "      <td>57510.492818</td>\n",
              "      <td>0.402769</td>\n",
              "    </tr>\n",
              "    <tr>\n",
              "      <th>min</th>\n",
              "      <td>1.00000</td>\n",
              "      <td>1.556570e+07</td>\n",
              "      <td>350.000000</td>\n",
              "      <td>18.000000</td>\n",
              "      <td>0.000000</td>\n",
              "      <td>0.000000</td>\n",
              "      <td>1.000000</td>\n",
              "      <td>0.00000</td>\n",
              "      <td>0.000000</td>\n",
              "      <td>11.580000</td>\n",
              "      <td>0.000000</td>\n",
              "    </tr>\n",
              "    <tr>\n",
              "      <th>25%</th>\n",
              "      <td>2500.75000</td>\n",
              "      <td>1.562853e+07</td>\n",
              "      <td>584.000000</td>\n",
              "      <td>32.000000</td>\n",
              "      <td>3.000000</td>\n",
              "      <td>0.000000</td>\n",
              "      <td>1.000000</td>\n",
              "      <td>0.00000</td>\n",
              "      <td>0.000000</td>\n",
              "      <td>51002.110000</td>\n",
              "      <td>0.000000</td>\n",
              "    </tr>\n",
              "    <tr>\n",
              "      <th>50%</th>\n",
              "      <td>5000.50000</td>\n",
              "      <td>1.569074e+07</td>\n",
              "      <td>652.000000</td>\n",
              "      <td>37.000000</td>\n",
              "      <td>5.000000</td>\n",
              "      <td>97198.540000</td>\n",
              "      <td>1.000000</td>\n",
              "      <td>1.00000</td>\n",
              "      <td>1.000000</td>\n",
              "      <td>100193.915000</td>\n",
              "      <td>0.000000</td>\n",
              "    </tr>\n",
              "    <tr>\n",
              "      <th>75%</th>\n",
              "      <td>7500.25000</td>\n",
              "      <td>1.575323e+07</td>\n",
              "      <td>718.000000</td>\n",
              "      <td>44.000000</td>\n",
              "      <td>7.000000</td>\n",
              "      <td>127644.240000</td>\n",
              "      <td>2.000000</td>\n",
              "      <td>1.00000</td>\n",
              "      <td>1.000000</td>\n",
              "      <td>149388.247500</td>\n",
              "      <td>0.000000</td>\n",
              "    </tr>\n",
              "    <tr>\n",
              "      <th>max</th>\n",
              "      <td>10000.00000</td>\n",
              "      <td>1.581569e+07</td>\n",
              "      <td>850.000000</td>\n",
              "      <td>92.000000</td>\n",
              "      <td>10.000000</td>\n",
              "      <td>250898.090000</td>\n",
              "      <td>4.000000</td>\n",
              "      <td>1.00000</td>\n",
              "      <td>1.000000</td>\n",
              "      <td>199992.480000</td>\n",
              "      <td>1.000000</td>\n",
              "    </tr>\n",
              "  </tbody>\n",
              "</table>\n",
              "</div>\n",
              "      <button class=\"colab-df-convert\" onclick=\"convertToInteractive('df-46720156-c882-48ff-9e38-8c2722299c71')\"\n",
              "              title=\"Convert this dataframe to an interactive table.\"\n",
              "              style=\"display:none;\">\n",
              "        \n",
              "  <svg xmlns=\"http://www.w3.org/2000/svg\" height=\"24px\"viewBox=\"0 0 24 24\"\n",
              "       width=\"24px\">\n",
              "    <path d=\"M0 0h24v24H0V0z\" fill=\"none\"/>\n",
              "    <path d=\"M18.56 5.44l.94 2.06.94-2.06 2.06-.94-2.06-.94-.94-2.06-.94 2.06-2.06.94zm-11 1L8.5 8.5l.94-2.06 2.06-.94-2.06-.94L8.5 2.5l-.94 2.06-2.06.94zm10 10l.94 2.06.94-2.06 2.06-.94-2.06-.94-.94-2.06-.94 2.06-2.06.94z\"/><path d=\"M17.41 7.96l-1.37-1.37c-.4-.4-.92-.59-1.43-.59-.52 0-1.04.2-1.43.59L10.3 9.45l-7.72 7.72c-.78.78-.78 2.05 0 2.83L4 21.41c.39.39.9.59 1.41.59.51 0 1.02-.2 1.41-.59l7.78-7.78 2.81-2.81c.8-.78.8-2.07 0-2.86zM5.41 20L4 18.59l7.72-7.72 1.47 1.35L5.41 20z\"/>\n",
              "  </svg>\n",
              "      </button>\n",
              "      \n",
              "  <style>\n",
              "    .colab-df-container {\n",
              "      display:flex;\n",
              "      flex-wrap:wrap;\n",
              "      gap: 12px;\n",
              "    }\n",
              "\n",
              "    .colab-df-convert {\n",
              "      background-color: #E8F0FE;\n",
              "      border: none;\n",
              "      border-radius: 50%;\n",
              "      cursor: pointer;\n",
              "      display: none;\n",
              "      fill: #1967D2;\n",
              "      height: 32px;\n",
              "      padding: 0 0 0 0;\n",
              "      width: 32px;\n",
              "    }\n",
              "\n",
              "    .colab-df-convert:hover {\n",
              "      background-color: #E2EBFA;\n",
              "      box-shadow: 0px 1px 2px rgba(60, 64, 67, 0.3), 0px 1px 3px 1px rgba(60, 64, 67, 0.15);\n",
              "      fill: #174EA6;\n",
              "    }\n",
              "\n",
              "    [theme=dark] .colab-df-convert {\n",
              "      background-color: #3B4455;\n",
              "      fill: #D2E3FC;\n",
              "    }\n",
              "\n",
              "    [theme=dark] .colab-df-convert:hover {\n",
              "      background-color: #434B5C;\n",
              "      box-shadow: 0px 1px 3px 1px rgba(0, 0, 0, 0.15);\n",
              "      filter: drop-shadow(0px 1px 2px rgba(0, 0, 0, 0.3));\n",
              "      fill: #FFFFFF;\n",
              "    }\n",
              "  </style>\n",
              "\n",
              "      <script>\n",
              "        const buttonEl =\n",
              "          document.querySelector('#df-46720156-c882-48ff-9e38-8c2722299c71 button.colab-df-convert');\n",
              "        buttonEl.style.display =\n",
              "          google.colab.kernel.accessAllowed ? 'block' : 'none';\n",
              "\n",
              "        async function convertToInteractive(key) {\n",
              "          const element = document.querySelector('#df-46720156-c882-48ff-9e38-8c2722299c71');\n",
              "          const dataTable =\n",
              "            await google.colab.kernel.invokeFunction('convertToInteractive',\n",
              "                                                     [key], {});\n",
              "          if (!dataTable) return;\n",
              "\n",
              "          const docLinkHtml = 'Like what you see? Visit the ' +\n",
              "            '<a target=\"_blank\" href=https://colab.research.google.com/notebooks/data_table.ipynb>data table notebook</a>'\n",
              "            + ' to learn more about interactive tables.';\n",
              "          element.innerHTML = '';\n",
              "          dataTable['output_type'] = 'display_data';\n",
              "          await google.colab.output.renderOutput(dataTable, element);\n",
              "          const docLink = document.createElement('div');\n",
              "          docLink.innerHTML = docLinkHtml;\n",
              "          element.appendChild(docLink);\n",
              "        }\n",
              "      </script>\n",
              "    </div>\n",
              "  </div>\n",
              "  "
            ]
          },
          "metadata": {},
          "execution_count": 6
        }
      ],
      "source": [
        "dataset.describe()"
      ]
    },
    {
      "cell_type": "code",
      "execution_count": null,
      "id": "3c146d5e-eee5-472b-b7bb-763eb84e699e",
      "metadata": {
        "colab": {
          "base_uri": "https://localhost:8080/"
        },
        "id": "3c146d5e-eee5-472b-b7bb-763eb84e699e",
        "outputId": "e256ee09-ff78-405c-d1ab-aa39fc7944af"
      },
      "outputs": [
        {
          "output_type": "execute_result",
          "data": {
            "text/plain": [
              "Index(['RowNumber', 'CustomerId', 'Surname', 'CreditScore', 'Geography',\n",
              "       'Gender', 'Age', 'Tenure', 'Balance', 'NumOfProducts', 'HasCrCard',\n",
              "       'IsActiveMember', 'EstimatedSalary', 'Exited'],\n",
              "      dtype='object')"
            ]
          },
          "metadata": {},
          "execution_count": 7
        }
      ],
      "source": [
        "dataset.columns"
      ]
    },
    {
      "cell_type": "code",
      "execution_count": null,
      "id": "d2bf4d14-06b8-4587-b4dd-d82a236bdeda",
      "metadata": {
        "colab": {
          "base_uri": "https://localhost:8080/"
        },
        "id": "d2bf4d14-06b8-4587-b4dd-d82a236bdeda",
        "outputId": "fd5061fd-7ebb-4dbb-e059-14a5866bd8c3"
      },
      "outputs": [
        {
          "output_type": "execute_result",
          "data": {
            "text/plain": [
              "0    7963\n",
              "1    2037\n",
              "Name: Exited, dtype: int64"
            ]
          },
          "metadata": {},
          "execution_count": 8
        }
      ],
      "source": [
        "#Our targate column is 'Exited'\n",
        "dataset['Exited'].value_counts()"
      ]
    },
    {
      "cell_type": "code",
      "execution_count": null,
      "id": "acf85f2b-8cd5-4320-b545-c24291933257",
      "metadata": {
        "colab": {
          "base_uri": "https://localhost:8080/",
          "height": 466
        },
        "id": "acf85f2b-8cd5-4320-b545-c24291933257",
        "outputId": "aea58697-c141-4c0b-cfa2-e4ff56131ef4"
      },
      "outputs": [
        {
          "output_type": "execute_result",
          "data": {
            "text/plain": [
              "<Axes: xlabel='Exited', ylabel='count'>"
            ]
          },
          "metadata": {},
          "execution_count": 8
        },
        {
          "output_type": "display_data",
          "data": {
            "text/plain": [
              "<Figure size 640x480 with 1 Axes>"
            ],
            "image/png": "[encoded data removed]"
          },
          "metadata": {}
        }
      ],
      "source": [
        "sns.countplot(x=dataset['Exited'],data=dataset)"
      ]
    },
    {
      "cell_type": "code",
      "execution_count": null,
      "id": "b5bd7a72-0702-49b6-972a-529b70de1a5b",
      "metadata": {
        "colab": {
          "base_uri": "https://localhost:8080/",
          "height": 466
        },
        "id": "b5bd7a72-0702-49b6-972a-529b70de1a5b",
        "outputId": "2705a29c-ddfb-4e25-ee0e-ab17c0d83a84"
      },
      "outputs": [
        {
          "output_type": "execute_result",
          "data": {
            "text/plain": [
              "<Axes: xlabel='Gender', ylabel='count'>"
            ]
          },
          "metadata": {},
          "execution_count": 9
        },
        {
          "output_type": "display_data",
          "data": {
            "text/plain": [
              "<Figure size 640x480 with 1 Axes>"
            ],
            "image/png": "[encoded data removed]"
          },
          "metadata": {}
        }
      ],
      "source": [
        "sns.countplot(x=dataset['Gender'],data=dataset)"
      ]
    },
    {
      "cell_type": "code",
      "execution_count": null,
      "id": "87bc55d7-2a82-4a7f-bfba-a4c8aec7f970",
      "metadata": {
        "colab": {
          "base_uri": "https://localhost:8080/",
          "height": 466
        },
        "id": "87bc55d7-2a82-4a7f-bfba-a4c8aec7f970",
        "outputId": "36159dda-2825-4384-de92-cdef0b89b6e0"
      },
      "outputs": [
        {
          "output_type": "execute_result",
          "data": {
            "text/plain": [
              "<Axes: xlabel='Geography', ylabel='count'>"
            ]
          },
          "metadata": {},
          "execution_count": 10
        },
        {
          "output_type": "display_data",
          "data": {
            "text/plain": [
              "<Figure size 640x480 with 1 Axes>"
            ],
            "image/png": "[encoded data removed]"
          },
          "metadata": {}
        }
      ],
      "source": [
        "sns.countplot(x=dataset['Geography'], data=dataset)"
      ]
    },
    {
      "cell_type": "code",
      "execution_count": null,
      "id": "973ed2a3-e93d-4ef4-bb1e-f1d2f19627f8",
      "metadata": {
        "colab": {
          "base_uri": "https://localhost:8080/",
          "height": 270
        },
        "id": "973ed2a3-e93d-4ef4-bb1e-f1d2f19627f8",
        "outputId": "09db4fc9-a4bd-4bc8-bf74-a758d79f311b"
      },
      "outputs": [
        {
          "output_type": "execute_result",
          "data": {
            "text/plain": [
              "   RowNumber  CustomerId   Surname  CreditScore Geography  Gender  Age  \\\n",
              "0          1    15634602  Hargrave          619    France  Female   42   \n",
              "1          2    15647311      Hill          608     Spain  Female   41   \n",
              "2          3    15619304      Onio          502    France  Female   42   \n",
              "3          4    15701354      Boni          699    France  Female   39   \n",
              "4          5    15737888  Mitchell          850     Spain  Female   43   \n",
              "\n",
              "   Tenure    Balance  NumOfProducts  HasCrCard  IsActiveMember  \\\n",
              "0       2       0.00              1          1               1   \n",
              "1       1   83807.86              1          0               1   \n",
              "2       8  159660.80              3          1               0   \n",
              "3       1       0.00              2          0               0   \n",
              "4       2  125510.82              1          1               1   \n",
              "\n",
              "   EstimatedSalary  Exited  \n",
              "0        101348.88       1  \n",
              "1        112542.58       0  \n",
              "2        113931.57       1  \n",
              "3         93826.63       0  \n",
              "4         79084.10       0  "
            ],
            "text/html": [
              "\n",
              "  <div id=\"df-42e6cd50-adea-4209-866b-c884c3c50af2\">\n",
              "    <div class=\"colab-df-container\">\n",
              "      <div>\n",
              "<style scoped>\n",
              "    .dataframe tbody tr th:only-of-type {\n",
              "        vertical-align: middle;\n",
              "    }\n",
              "\n",
              "    .dataframe tbody tr th {\n",
              "        vertical-align: top;\n",
              "    }\n",
              "\n",
              "    .dataframe thead th {\n",
              "        text-align: right;\n",
              "    }\n",
              "</style>\n",
              "<table border=\"1\" class=\"dataframe\">\n",
              "  <thead>\n",
              "    <tr style=\"text-align: right;\">\n",
              "      <th></th>\n",
              "      <th>RowNumber</th>\n",
              "      <th>CustomerId</th>\n",
              "      <th>Surname</th>\n",
              "      <th>CreditScore</th>\n",
              "      <th>Geography</th>\n",
              "      <th>Gender</th>\n",
              "      <th>Age</th>\n",
              "      <th>Tenure</th>\n",
              "      <th>Balance</th>\n",
              "      <th>NumOfProducts</th>\n",
              "      <th>HasCrCard</th>\n",
              "      <th>IsActiveMember</th>\n",
              "      <th>EstimatedSalary</th>\n",
              "      <th>Exited</th>\n",
              "    </tr>\n",
              "  </thead>\n",
              "  <tbody>\n",
              "    <tr>\n",
              "      <th>0</th>\n",
              "      <td>1</td>\n",
              "      <td>15634602</td>\n",
              "      <td>Hargrave</td>\n",
              "      <td>619</td>\n",
              "      <td>France</td>\n",
              "      <td>Female</td>\n",
              "      <td>42</td>\n",
              "      <td>2</td>\n",
              "      <td>0.00</td>\n",
              "      <td>1</td>\n",
              "      <td>1</td>\n",
              "      <td>1</td>\n",
              "      <td>101348.88</td>\n",
              "      <td>1</td>\n",
              "    </tr>\n",
              "    <tr>\n",
              "      <th>1</th>\n",
              "      <td>2</td>\n",
              "      <td>15647311</td>\n",
              "      <td>Hill</td>\n",
              "      <td>608</td>\n",
              "      <td>Spain</td>\n",
              "      <td>Female</td>\n",
              "      <td>41</td>\n",
              "      <td>1</td>\n",
              "      <td>83807.86</td>\n",
              "      <td>1</td>\n",
              "      <td>0</td>\n",
              "      <td>1</td>\n",
              "      <td>112542.58</td>\n",
              "      <td>0</td>\n",
              "    </tr>\n",
              "    <tr>\n",
              "      <th>2</th>\n",
              "      <td>3</td>\n",
              "      <td>15619304</td>\n",
              "      <td>Onio</td>\n",
              "      <td>502</td>\n",
              "      <td>France</td>\n",
              "      <td>Female</td>\n",
              "      <td>42</td>\n",
              "      <td>8</td>\n",
              "      <td>159660.80</td>\n",
              "      <td>3</td>\n",
              "      <td>1</td>\n",
              "      <td>0</td>\n",
              "      <td>113931.57</td>\n",
              "      <td>1</td>\n",
              "    </tr>\n",
              "    <tr>\n",
              "      <th>3</th>\n",
              "      <td>4</td>\n",
              "      <td>15701354</td>\n",
              "      <td>Boni</td>\n",
              "      <td>699</td>\n",
              "      <td>France</td>\n",
              "      <td>Female</td>\n",
              "      <td>39</td>\n",
              "      <td>1</td>\n",
              "      <td>0.00</td>\n",
              "      <td>2</td>\n",
              "      <td>0</td>\n",
              "      <td>0</td>\n",
              "      <td>93826.63</td>\n",
              "      <td>0</td>\n",
              "    </tr>\n",
              "    <tr>\n",
              "      <th>4</th>\n",
              "      <td>5</td>\n",
              "      <td>15737888</td>\n",
              "      <td>Mitchell</td>\n",
              "      <td>850</td>\n",
              "      <td>Spain</td>\n",
              "      <td>Female</td>\n",
              "      <td>43</td>\n",
              "      <td>2</td>\n",
              "      <td>125510.82</td>\n",
              "      <td>1</td>\n",
              "      <td>1</td>\n",
              "      <td>1</td>\n",
              "      <td>79084.10</td>\n",
              "      <td>0</td>\n",
              "    </tr>\n",
              "  </tbody>\n",
              "</table>\n",
              "</div>\n",
              "      <button class=\"colab-df-convert\" onclick=\"convertToInteractive('df-42e6cd50-adea-4209-866b-c884c3c50af2')\"\n",
              "              title=\"Convert this dataframe to an interactive table.\"\n",
              "              style=\"display:none;\">\n",
              "        \n",
              "  <svg xmlns=\"http://www.w3.org/2000/svg\" height=\"24px\"viewBox=\"0 0 24 24\"\n",
              "       width=\"24px\">\n",
              "    <path d=\"M0 0h24v24H0V0z\" fill=\"none\"/>\n",
              "    <path d=\"M18.56 5.44l.94 2.06.94-2.06 2.06-.94-2.06-.94-.94-2.06-.94 2.06-2.06.94zm-11 1L8.5 8.5l.94-2.06 2.06-.94-2.06-.94L8.5 2.5l-.94 2.06-2.06.94zm10 10l.94 2.06.94-2.06 2.06-.94-2.06-.94-.94-2.06-.94 2.06-2.06.94z\"/><path d=\"M17.41 7.96l-1.37-1.37c-.4-.4-.92-.59-1.43-.59-.52 0-1.04.2-1.43.59L10.3 9.45l-7.72 7.72c-.78.78-.78 2.05 0 2.83L4 21.41c.39.39.9.59 1.41.59.51 0 1.02-.2 1.41-.59l7.78-7.78 2.81-2.81c.8-.78.8-2.07 0-2.86zM5.41 20L4 18.59l7.72-7.72 1.47 1.35L5.41 20z\"/>\n",
              "  </svg>\n",
              "      </button>\n",
              "      \n",
              "  <style>\n",
              "    .colab-df-container {\n",
              "      display:flex;\n",
              "      flex-wrap:wrap;\n",
              "      gap: 12px;\n",
              "    }\n",
              "\n",
              "    .colab-df-convert {\n",
              "      background-color: #E8F0FE;\n",
              "      border: none;\n",
              "      border-radius: 50%;\n",
              "      cursor: pointer;\n",
              "      display: none;\n",
              "      fill: #1967D2;\n",
              "      height: 32px;\n",
              "      padding: 0 0 0 0;\n",
              "      width: 32px;\n",
              "    }\n",
              "\n",
              "    .colab-df-convert:hover {\n",
              "      background-color: #E2EBFA;\n",
              "      box-shadow: 0px 1px 2px rgba(60, 64, 67, 0.3), 0px 1px 3px 1px rgba(60, 64, 67, 0.15);\n",
              "      fill: #174EA6;\n",
              "    }\n",
              "\n",
              "    [theme=dark] .colab-df-convert {\n",
              "      background-color: #3B4455;\n",
              "      fill: #D2E3FC;\n",
              "    }\n",
              "\n",
              "    [theme=dark] .colab-df-convert:hover {\n",
              "      background-color: #434B5C;\n",
              "      box-shadow: 0px 1px 3px 1px rgba(0, 0, 0, 0.15);\n",
              "      filter: drop-shadow(0px 1px 2px rgba(0, 0, 0, 0.3));\n",
              "      fill: #FFFFFF;\n",
              "    }\n",
              "  </style>\n",
              "\n",
              "      <script>\n",
              "        const buttonEl =\n",
              "          document.querySelector('#df-42e6cd50-adea-4209-866b-c884c3c50af2 button.colab-df-convert');\n",
              "        buttonEl.style.display =\n",
              "          google.colab.kernel.accessAllowed ? 'block' : 'none';\n",
              "\n",
              "        async function convertToInteractive(key) {\n",
              "          const element = document.querySelector('#df-42e6cd50-adea-4209-866b-c884c3c50af2');\n",
              "          const dataTable =\n",
              "            await google.colab.kernel.invokeFunction('convertToInteractive',\n",
              "                                                     [key], {});\n",
              "          if (!dataTable) return;\n",
              "\n",
              "          const docLinkHtml = 'Like what you see? Visit the ' +\n",
              "            '<a target=\"_blank\" href=https://colab.research.google.com/notebooks/data_table.ipynb>data table notebook</a>'\n",
              "            + ' to learn more about interactive tables.';\n",
              "          element.innerHTML = '';\n",
              "          dataTable['output_type'] = 'display_data';\n",
              "          await google.colab.output.renderOutput(dataTable, element);\n",
              "          const docLink = document.createElement('div');\n",
              "          docLink.innerHTML = docLinkHtml;\n",
              "          element.appendChild(docLink);\n",
              "        }\n",
              "      </script>\n",
              "    </div>\n",
              "  </div>\n",
              "  "
            ]
          },
          "metadata": {},
          "execution_count": 15
        }
      ],
      "source": [
        "dataset.head()"
      ]
    },
    {
      "cell_type": "code",
      "execution_count": null,
      "metadata": {
        "tags": [],
        "colab": {
          "base_uri": "https://localhost:8080/",
          "height": 728
        },
        "id": "0178dc22-0bb7-4707-b29b-db2a68d41db4",
        "outputId": "0d10f8c0-9f79-46d2-e4c0-49dffd50631e"
      },
      "outputs": [
        {
          "output_type": "stream",
          "name": "stderr",
          "text": [
            "<ipython-input-55-110f2e8c6f54>:2: FutureWarning: The default value of numeric_only in DataFrame.corr is deprecated. In a future version, it will default to False. Select only valid columns or specify the value of numeric_only to silence this warning.\n",
            "  sns.heatmap(dataset.corr(),annot=True)\n"
          ]
        },
        {
          "output_type": "execute_result",
          "data": {
            "text/plain": [
              "<Axes: >"
            ]
          },
          "metadata": {},
          "execution_count": 55
        },
        {
          "output_type": "display_data",
          "data": {
            "text/plain": [
              "<Figure size 1000x800 with 2 Axes>"
            ],
            "image/png": "[encoded data removed]"
          },
          "metadata": {}
        }
      ],
      "source": [
        "plt.figure(figsize=(10,8))\n",
        "sns.heatmap(dataset.corr(),annot=True)"
      ],
      "id": "0178dc22-0bb7-4707-b29b-db2a68d41db4"
    },
    {
      "cell_type": "code",
      "execution_count": null,
      "id": "a4163b90-1df4-47cd-abc5-ef34513c96a9",
      "metadata": {
        "colab": {
          "base_uri": "https://localhost:8080/"
        },
        "id": "a4163b90-1df4-47cd-abc5-ef34513c96a9",
        "outputId": "1551ee3c-7a40-49bb-a391-3449d0b290e1"
      },
      "outputs": [
        {
          "output_type": "execute_result",
          "data": {
            "text/plain": [
              "RowNumber          0\n",
              "CustomerId         0\n",
              "Surname            0\n",
              "CreditScore        0\n",
              "Geography          0\n",
              "Gender             0\n",
              "Age                0\n",
              "Tenure             0\n",
              "Balance            0\n",
              "NumOfProducts      0\n",
              "HasCrCard          0\n",
              "IsActiveMember     0\n",
              "EstimatedSalary    0\n",
              "Exited             0\n",
              "dtype: int64"
            ]
          },
          "metadata": {},
          "execution_count": 11
        }
      ],
      "source": [
        "#Checking Null Values\n",
        "dataset.isnull().sum()"
      ]
    },
    {
      "cell_type": "code",
      "source": [
        "# Mounting Google Drive\n",
        "from google.colab import drive\n",
        "drive.mount('/content/drive')"
      ],
      "metadata": {
        "colab": {
          "base_uri": "https://localhost:8080/"
        },
        "id": "TpJR_KQIKX62",
        "outputId": "33b28f65-6fe8-4dee-b6c9-6472a9e80781"
      },
      "execution_count": null,
      "outputs": [
        {
          "output_type": "stream",
          "name": "stdout",
          "text": [
            "Mounted at /content/drive\n"
          ]
        }
      ],
      "id": "TpJR_KQIKX62"
    },
    {
      "cell_type": "code",
      "source": [
        "# Extracting dependent and independent variables:\n",
        "# Extracting independent variable:\n",
        "X = dataset.iloc[:, 3:13].values \n",
        "# Extracting dependent variable:\n",
        "y = dataset.iloc[:, 13].values # this is for 1 d array  coming up this will make it 2-d array"
      ],
      "metadata": {
        "id": "02IB6XxNKbDT"
      },
      "execution_count": null,
      "outputs": [],
      "id": "02IB6XxNKbDT"
    },
    {
      "cell_type": "code",
      "source": [
        "X"
      ],
      "metadata": {
        "colab": {
          "base_uri": "https://localhost:8080/"
        },
        "id": "pHgQblosKqP_",
        "outputId": "f2f96e7e-991e-49e8-906c-9d63e76a773f"
      },
      "execution_count": null,
      "outputs": [
        {
          "output_type": "execute_result",
          "data": {
            "text/plain": [
              "array([[619, 'France', 'Female', ..., 1, 1, 101348.88],\n",
              "       [608, 'Spain', 'Female', ..., 0, 1, 112542.58],\n",
              "       [502, 'France', 'Female', ..., 1, 0, 113931.57],\n",
              "       ...,\n",
              "       [709, 'France', 'Female', ..., 0, 1, 42085.58],\n",
              "       [772, 'Germany', 'Male', ..., 1, 0, 92888.52],\n",
              "       [792, 'France', 'Female', ..., 1, 0, 38190.78]], dtype=object)"
            ]
          },
          "metadata": {},
          "execution_count": 14
        }
      ],
      "id": "pHgQblosKqP_"
    },
    {
      "cell_type": "code",
      "source": [
        "from sklearn.preprocessing import LabelEncoder\n",
        "labelencoder_X = LabelEncoder()\n",
        "X[:, 1] = labelencoder_X.fit_transform(X[:, 1])\n",
        "X[:, 2] = labelencoder_X.fit_transform(X[:, 2])\n"
      ],
      "metadata": {
        "id": "ESbTtf3mLVp7"
      },
      "execution_count": null,
      "outputs": [],
      "id": "ESbTtf3mLVp7"
    },
    {
      "cell_type": "code",
      "source": [
        "X"
      ],
      "metadata": {
        "colab": {
          "base_uri": "https://localhost:8080/"
        },
        "id": "CF1bbSKcLj1i",
        "outputId": "283cdeb5-da20-45b1-b35d-932729d0f7b7"
      },
      "execution_count": null,
      "outputs": [
        {
          "output_type": "execute_result",
          "data": {
            "text/plain": [
              "array([[619, 0, 0, ..., 1, 1, 101348.88],\n",
              "       [608, 2, 0, ..., 0, 1, 112542.58],\n",
              "       [502, 0, 0, ..., 1, 0, 113931.57],\n",
              "       ...,\n",
              "       [709, 0, 0, ..., 0, 1, 42085.58],\n",
              "       [772, 1, 1, ..., 1, 0, 92888.52],\n",
              "       [792, 0, 0, ..., 1, 0, 38190.78]], dtype=object)"
            ]
          },
          "metadata": {},
          "execution_count": 16
        }
      ],
      "id": "CF1bbSKcLj1i"
    },
    {
      "cell_type": "code",
      "source": [
        "# Splitting the dataset into the Training set and Test set\n",
        "from sklearn.model_selection import train_test_split\n",
        "\n",
        "X_train, X_test, y_train, y_test = train_test_split(X, y, test_size = 0.20, random_state = 0)"
      ],
      "metadata": {
        "id": "eEzHYNYwKrJR"
      },
      "execution_count": null,
      "outputs": [],
      "id": "eEzHYNYwKrJR"
    },
    {
      "cell_type": "code",
      "source": [
        "# Feature Scaling\n",
        "# Standard Scaling:  Standardization = X'=X-mean(X)/standard deviation\n",
        "# normal scaling : Normalization= X'=X-min(X)/max(x)-min(X)\n",
        "\n",
        "from sklearn.preprocessing import StandardScaler\n",
        "sc_X = StandardScaler()\n",
        "X_train_scaled = sc_X.fit_transform(X_train)\n",
        "X_test_scaled = sc_X.transform(X_test)"
      ],
      "metadata": {
        "id": "zp5lp6pdKumI"
      },
      "execution_count": null,
      "outputs": [],
      "id": "zp5lp6pdKumI"
    },
    {
      "cell_type": "code",
      "source": [
        "X_train_scaled"
      ],
      "metadata": {
        "colab": {
          "base_uri": "https://localhost:8080/"
        },
        "id": "jgel53rIYjGx",
        "outputId": "d7b65572-0ce6-4cfb-fed8-a19176cc591c"
      },
      "id": "jgel53rIYjGx",
      "execution_count": null,
      "outputs": [
        {
          "output_type": "execute_result",
          "data": {
            "text/plain": [
              "array([[ 0.16958176,  1.51919821, -1.09168714, ...,  0.64259497,\n",
              "        -1.03227043,  1.10643166],\n",
              "       [-2.30455945,  0.3131264 ,  0.91601335, ...,  0.64259497,\n",
              "         0.9687384 , -0.74866447],\n",
              "       [-1.19119591, -0.89294542, -1.09168714, ...,  0.64259497,\n",
              "        -1.03227043,  1.48533467],\n",
              "       ...,\n",
              "       [ 0.9015152 , -0.89294542,  0.91601335, ...,  0.64259497,\n",
              "        -1.03227043,  1.41231994],\n",
              "       [-0.62420521,  1.51919821, -1.09168714, ...,  0.64259497,\n",
              "         0.9687384 ,  0.84432121],\n",
              "       [-0.28401079,  0.3131264 , -1.09168714, ...,  0.64259497,\n",
              "        -1.03227043,  0.32472465]])"
            ]
          },
          "metadata": {},
          "execution_count": 19
        }
      ]
    },
    {
      "cell_type": "code",
      "source": [
        "X_test_scaled"
      ],
      "metadata": {
        "colab": {
          "base_uri": "https://localhost:8080/"
        },
        "id": "yRq5fJLNYp9w",
        "outputId": "b17b08ef-b9bb-45b2-f863-1f48a970459e"
      },
      "id": "yRq5fJLNYp9w",
      "execution_count": null,
      "outputs": [
        {
          "output_type": "execute_result",
          "data": {
            "text/plain": [
              "array([[-0.55204276,  0.3131264 , -1.09168714, ...,  0.64259497,\n",
              "         0.9687384 ,  1.61085707],\n",
              "       [-1.31490297, -0.89294542, -1.09168714, ...,  0.64259497,\n",
              "        -1.03227043,  0.49587037],\n",
              "       [ 0.57162971,  1.51919821, -1.09168714, ...,  0.64259497,\n",
              "         0.9687384 , -0.42478674],\n",
              "       ...,\n",
              "       [-0.74791227,  1.51919821,  0.91601335, ...,  0.64259497,\n",
              "        -1.03227043,  0.71888467],\n",
              "       [-0.00566991,  0.3131264 ,  0.91601335, ...,  0.64259497,\n",
              "         0.9687384 , -1.54507805],\n",
              "       [-0.79945688,  0.3131264 ,  0.91601335, ...,  0.64259497,\n",
              "        -1.03227043,  1.61255917]])"
            ]
          },
          "metadata": {},
          "execution_count": 20
        }
      ]
    },
    {
      "cell_type": "markdown",
      "source": [
        "### **DECISION_TREE**"
      ],
      "metadata": {
        "id": "R8Ut1yoCMANf"
      },
      "id": "R8Ut1yoCMANf"
    },
    {
      "cell_type": "code",
      "source": [
        "# Fitting Decision Tree Classification to the Training set\n",
        "from sklearn.tree import DecisionTreeClassifier\n",
        "classifier_decision = DecisionTreeClassifier(criterion = 'entropy', random_state = 42)\n",
        "classifier_decision.fit(X_train_scaled, y_train)"
      ],
      "metadata": {
        "colab": {
          "base_uri": "https://localhost:8080/",
          "height": 75
        },
        "id": "WkWQ0uwKKxig",
        "outputId": "6bc2ba34-d797-46e0-d121-04a42b3eb233"
      },
      "execution_count": null,
      "outputs": [
        {
          "output_type": "execute_result",
          "data": {
            "text/plain": [
              "DecisionTreeClassifier(criterion='entropy', random_state=42)"
            ],
            "text/html": [
              "<style>#sk-container-id-1 {color: black;background-color: white;}#sk-container-id-1 pre{padding: 0;}#sk-container-id-1 div.sk-toggleable {background-color: white;}#sk-container-id-1 label.sk-toggleable__label {cursor: pointer;display: block;width: 100%;margin-bottom: 0;padding: 0.3em;box-sizing: border-box;text-align: center;}#sk-container-id-1 label.sk-toggleable__label-arrow:before {content: \"▸\";float: left;margin-right: 0.25em;color: #696969;}#sk-container-id-1 label.sk-toggleable__label-arrow:hover:before {color: black;}#sk-container-id-1 div.sk-estimator:hover label.sk-toggleable__label-arrow:before {color: black;}#sk-container-id-1 div.sk-toggleable__content {max-height: 0;max-width: 0;overflow: hidden;text-align: left;background-color: #f0f8ff;}#sk-container-id-1 div.sk-toggleable__content pre {margin: 0.2em;color: black;border-radius: 0.25em;background-color: #f0f8ff;}#sk-container-id-1 input.sk-toggleable__control:checked~div.sk-toggleable__content {max-height: 200px;max-width: 100%;overflow: auto;}#sk-container-id-1 input.sk-toggleable__control:checked~label.sk-toggleable__label-arrow:before {content: \"▾\";}#sk-container-id-1 div.sk-estimator input.sk-toggleable__control:checked~label.sk-toggleable__label {background-color: #d4ebff;}#sk-container-id-1 div.sk-label input.sk-toggleable__control:checked~label.sk-toggleable__label {background-color: #d4ebff;}#sk-container-id-1 input.sk-hidden--visually {border: 0;clip: rect(1px 1px 1px 1px);clip: rect(1px, 1px, 1px, 1px);height: 1px;margin: -1px;overflow: hidden;padding: 0;position: absolute;width: 1px;}#sk-container-id-1 div.sk-estimator {font-family: monospace;background-color: #f0f8ff;border: 1px dotted black;border-radius: 0.25em;box-sizing: border-box;margin-bottom: 0.5em;}#sk-container-id-1 div.sk-estimator:hover {background-color: #d4ebff;}#sk-container-id-1 div.sk-parallel-item::after {content: \"\";width: 100%;border-bottom: 1px solid gray;flex-grow: 1;}#sk-container-id-1 div.sk-label:hover label.sk-toggleable__label {background-color: #d4ebff;}#sk-container-id-1 div.sk-serial::before {content: \"\";position: absolute;border-left: 1px solid gray;box-sizing: border-box;top: 0;bottom: 0;left: 50%;z-index: 0;}#sk-container-id-1 div.sk-serial {display: flex;flex-direction: column;align-items: center;background-color: white;padding-right: 0.2em;padding-left: 0.2em;position: relative;}#sk-container-id-1 div.sk-item {position: relative;z-index: 1;}#sk-container-id-1 div.sk-parallel {display: flex;align-items: stretch;justify-content: center;background-color: white;position: relative;}#sk-container-id-1 div.sk-item::before, #sk-container-id-1 div.sk-parallel-item::before {content: \"\";position: absolute;border-left: 1px solid gray;box-sizing: border-box;top: 0;bottom: 0;left: 50%;z-index: -1;}#sk-container-id-1 div.sk-parallel-item {display: flex;flex-direction: column;z-index: 1;position: relative;background-color: white;}#sk-container-id-1 div.sk-parallel-item:first-child::after {align-self: flex-end;width: 50%;}#sk-container-id-1 div.sk-parallel-item:last-child::after {align-self: flex-start;width: 50%;}#sk-container-id-1 div.sk-parallel-item:only-child::after {width: 0;}#sk-container-id-1 div.sk-dashed-wrapped {border: 1px dashed gray;margin: 0 0.4em 0.5em 0.4em;box-sizing: border-box;padding-bottom: 0.4em;background-color: white;}#sk-container-id-1 div.sk-label label {font-family: monospace;font-weight: bold;display: inline-block;line-height: 1.2em;}#sk-container-id-1 div.sk-label-container {text-align: center;}#sk-container-id-1 div.sk-container {/* jupyter's `normalize.less` sets `[hidden] { display: none; }` but bootstrap.min.css set `[hidden] { display: none !important; }` so we also need the `!important` here to be able to override the default hidden behavior on the sphinx rendered scikit-learn.org. See: https://github.com/scikit-learn/scikit-learn/issues/21755 */display: inline-block !important;position: relative;}#sk-container-id-1 div.sk-text-repr-fallback {display: none;}</style><div id=\"sk-container-id-1\" class=\"sk-top-container\"><div class=\"sk-text-repr-fallback\"><pre>DecisionTreeClassifier(criterion=&#x27;entropy&#x27;, random_state=42)</pre><b>In a Jupyter environment, please rerun this cell to show the HTML representation or trust the notebook. <br />On GitHub, the HTML representation is unable to render, please try loading this page with nbviewer.org.</b></div><div class=\"sk-container\" hidden><div class=\"sk-item\"><div class=\"sk-estimator sk-toggleable\"><input class=\"sk-toggleable__control sk-hidden--visually\" id=\"sk-estimator-id-1\" type=\"checkbox\" checked><label for=\"sk-estimator-id-1\" class=\"sk-toggleable__label sk-toggleable__label-arrow\">DecisionTreeClassifier</label><div class=\"sk-toggleable__content\"><pre>DecisionTreeClassifier(criterion=&#x27;entropy&#x27;, random_state=42)</pre></div></div></div></div></div>"
            ]
          },
          "metadata": {},
          "execution_count": 21
        }
      ],
      "id": "WkWQ0uwKKxig"
    },
    {
      "cell_type": "code",
      "source": [
        "# Predicting the Test set results\n",
        "y_pred = classifier_decision.predict(X_test_scaled)"
      ],
      "metadata": {
        "id": "J6Y6Dda8L9OQ"
      },
      "execution_count": null,
      "outputs": [],
      "id": "J6Y6Dda8L9OQ"
    },
    {
      "cell_type": "code",
      "source": [
        "from sklearn.metrics import accuracy_score\n",
        "print('Accuracy: %.2f' % (accuracy_score(y_test, y_pred)*100))"
      ],
      "metadata": {
        "colab": {
          "base_uri": "https://localhost:8080/"
        },
        "id": "-TCO2MW0L_lw",
        "outputId": "0ad7be65-3de1-4c0c-fa5d-c01f927be589"
      },
      "execution_count": null,
      "outputs": [
        {
          "output_type": "stream",
          "name": "stdout",
          "text": [
            "Accuracy: 78.35\n"
          ]
        }
      ],
      "id": "-TCO2MW0L_lw"
    },
    {
      "cell_type": "code",
      "source": [
        "import pickle \n",
        "print(\"[INFO] Saving model...\")\n",
        "# Save the trained model as a pickle string. \n",
        "saved_model=pickle.dump(classifier_decision,open('/content/drive/My Drive/project7_decision_model.pkl', 'wb')) \n",
        "# Saving model to disk"
      ],
      "metadata": {
        "colab": {
          "base_uri": "https://localhost:8080/"
        },
        "id": "SCwrlY27MGTQ",
        "outputId": "2cdb8e0c-bd5f-42cd-be27-947295594e2d"
      },
      "execution_count": null,
      "outputs": [
        {
          "output_type": "stream",
          "name": "stdout",
          "text": [
            "[INFO] Saving model...\n"
          ]
        }
      ],
      "id": "SCwrlY27MGTQ"
    },
    {
      "cell_type": "markdown",
      "source": [
        "**SVM**"
      ],
      "metadata": {
        "id": "bmlIyVg3MLHk"
      },
      "id": "bmlIyVg3MLHk"
    },
    {
      "cell_type": "code",
      "source": [
        "# Fitting SVM to the Training set\n",
        "from sklearn.svm import SVC\n",
        "classifier_svm = SVC(kernel = 'rbf', random_state = 0, probability=True)\n",
        "classifier_svm.fit(X_train_scaled, y_train)"
      ],
      "metadata": {
        "colab": {
          "base_uri": "https://localhost:8080/",
          "height": 75
        },
        "id": "Ihcc01GVMKSA",
        "outputId": "8821941c-f9ba-48d7-f994-86899c7d2036"
      },
      "execution_count": null,
      "outputs": [
        {
          "output_type": "execute_result",
          "data": {
            "text/plain": [
              "SVC(probability=True, random_state=0)"
            ],
            "text/html": [
              "<style>#sk-container-id-2 {color: black;background-color: white;}#sk-container-id-2 pre{padding: 0;}#sk-container-id-2 div.sk-toggleable {background-color: white;}#sk-container-id-2 label.sk-toggleable__label {cursor: pointer;display: block;width: 100%;margin-bottom: 0;padding: 0.3em;box-sizing: border-box;text-align: center;}#sk-container-id-2 label.sk-toggleable__label-arrow:before {content: \"▸\";float: left;margin-right: 0.25em;color: #696969;}#sk-container-id-2 label.sk-toggleable__label-arrow:hover:before {color: black;}#sk-container-id-2 div.sk-estimator:hover label.sk-toggleable__label-arrow:before {color: black;}#sk-container-id-2 div.sk-toggleable__content {max-height: 0;max-width: 0;overflow: hidden;text-align: left;background-color: #f0f8ff;}#sk-container-id-2 div.sk-toggleable__content pre {margin: 0.2em;color: black;border-radius: 0.25em;background-color: #f0f8ff;}#sk-container-id-2 input.sk-toggleable__control:checked~div.sk-toggleable__content {max-height: 200px;max-width: 100%;overflow: auto;}#sk-container-id-2 input.sk-toggleable__control:checked~label.sk-toggleable__label-arrow:before {content: \"▾\";}#sk-container-id-2 div.sk-estimator input.sk-toggleable__control:checked~label.sk-toggleable__label {background-color: #d4ebff;}#sk-container-id-2 div.sk-label input.sk-toggleable__control:checked~label.sk-toggleable__label {background-color: #d4ebff;}#sk-container-id-2 input.sk-hidden--visually {border: 0;clip: rect(1px 1px 1px 1px);clip: rect(1px, 1px, 1px, 1px);height: 1px;margin: -1px;overflow: hidden;padding: 0;position: absolute;width: 1px;}#sk-container-id-2 div.sk-estimator {font-family: monospace;background-color: #f0f8ff;border: 1px dotted black;border-radius: 0.25em;box-sizing: border-box;margin-bottom: 0.5em;}#sk-container-id-2 div.sk-estimator:hover {background-color: #d4ebff;}#sk-container-id-2 div.sk-parallel-item::after {content: \"\";width: 100%;border-bottom: 1px solid gray;flex-grow: 1;}#sk-container-id-2 div.sk-label:hover label.sk-toggleable__label {background-color: #d4ebff;}#sk-container-id-2 div.sk-serial::before {content: \"\";position: absolute;border-left: 1px solid gray;box-sizing: border-box;top: 0;bottom: 0;left: 50%;z-index: 0;}#sk-container-id-2 div.sk-serial {display: flex;flex-direction: column;align-items: center;background-color: white;padding-right: 0.2em;padding-left: 0.2em;position: relative;}#sk-container-id-2 div.sk-item {position: relative;z-index: 1;}#sk-container-id-2 div.sk-parallel {display: flex;align-items: stretch;justify-content: center;background-color: white;position: relative;}#sk-container-id-2 div.sk-item::before, #sk-container-id-2 div.sk-parallel-item::before {content: \"\";position: absolute;border-left: 1px solid gray;box-sizing: border-box;top: 0;bottom: 0;left: 50%;z-index: -1;}#sk-container-id-2 div.sk-parallel-item {display: flex;flex-direction: column;z-index: 1;position: relative;background-color: white;}#sk-container-id-2 div.sk-parallel-item:first-child::after {align-self: flex-end;width: 50%;}#sk-container-id-2 div.sk-parallel-item:last-child::after {align-self: flex-start;width: 50%;}#sk-container-id-2 div.sk-parallel-item:only-child::after {width: 0;}#sk-container-id-2 div.sk-dashed-wrapped {border: 1px dashed gray;margin: 0 0.4em 0.5em 0.4em;box-sizing: border-box;padding-bottom: 0.4em;background-color: white;}#sk-container-id-2 div.sk-label label {font-family: monospace;font-weight: bold;display: inline-block;line-height: 1.2em;}#sk-container-id-2 div.sk-label-container {text-align: center;}#sk-container-id-2 div.sk-container {/* jupyter's `normalize.less` sets `[hidden] { display: none; }` but bootstrap.min.css set `[hidden] { display: none !important; }` so we also need the `!important` here to be able to override the default hidden behavior on the sphinx rendered scikit-learn.org. See: https://github.com/scikit-learn/scikit-learn/issues/21755 */display: inline-block !important;position: relative;}#sk-container-id-2 div.sk-text-repr-fallback {display: none;}</style><div id=\"sk-container-id-2\" class=\"sk-top-container\"><div class=\"sk-text-repr-fallback\"><pre>SVC(probability=True, random_state=0)</pre><b>In a Jupyter environment, please rerun this cell to show the HTML representation or trust the notebook. <br />On GitHub, the HTML representation is unable to render, please try loading this page with nbviewer.org.</b></div><div class=\"sk-container\" hidden><div class=\"sk-item\"><div class=\"sk-estimator sk-toggleable\"><input class=\"sk-toggleable__control sk-hidden--visually\" id=\"sk-estimator-id-2\" type=\"checkbox\" checked><label for=\"sk-estimator-id-2\" class=\"sk-toggleable__label sk-toggleable__label-arrow\">SVC</label><div class=\"sk-toggleable__content\"><pre>SVC(probability=True, random_state=0)</pre></div></div></div></div></div>"
            ]
          },
          "metadata": {},
          "execution_count": 29
        }
      ],
      "id": "Ihcc01GVMKSA"
    },
    {
      "cell_type": "code",
      "source": [
        "y_pred = classifier_svm.predict(X_test_scaled)"
      ],
      "metadata": {
        "id": "3NHuWxcoMR_y"
      },
      "execution_count": null,
      "outputs": [],
      "id": "3NHuWxcoMR_y"
    },
    {
      "cell_type": "code",
      "source": [
        "# calculate Accuracy\n",
        "from sklearn.metrics import accuracy_score\n",
        "print('Accuracy: %.2f' % (accuracy_score(y_test, y_pred)*100))"
      ],
      "metadata": {
        "colab": {
          "base_uri": "https://localhost:8080/"
        },
        "id": "ta4B6IJpMWx-",
        "outputId": "d6c96be4-bd22-4355-e58b-3241de22a595"
      },
      "execution_count": null,
      "outputs": [
        {
          "output_type": "stream",
          "name": "stdout",
          "text": [
            "Accuracy: 86.30\n"
          ]
        }
      ],
      "id": "ta4B6IJpMWx-"
    },
    {
      "cell_type": "code",
      "source": [
        "import pickle \n",
        "print(\"[INFO] Saving model...\")\n",
        "# Save the trained model as a pickle string. \n",
        "saved_model=pickle.dump(classifier_svm,open('/content/drive/My Drive/project7_svm.pkl', 'wb')) \n",
        "# Saving model to disk"
      ],
      "metadata": {
        "colab": {
          "base_uri": "https://localhost:8080/"
        },
        "id": "H_yB-L2YMYsc",
        "outputId": "0005fdde-049e-40fa-f8df-d90928d4077e"
      },
      "execution_count": null,
      "outputs": [
        {
          "output_type": "stream",
          "name": "stdout",
          "text": [
            "[INFO] Saving model...\n"
          ]
        }
      ],
      "id": "H_yB-L2YMYsc"
    },
    {
      "cell_type": "markdown",
      "source": [
        "## **RANDOM_FOREST**"
      ],
      "metadata": {
        "id": "K4ZuqYm1Mkdx"
      },
      "id": "K4ZuqYm1Mkdx"
    },
    {
      "cell_type": "code",
      "source": [
        "# Training the Random Forest Classification model on the Training set\n",
        "from sklearn.ensemble import RandomForestClassifier\n",
        "classifier_Random = RandomForestClassifier(n_estimators = 300, criterion = 'entropy', random_state = 0)\n",
        "classifier_Random.fit(X_train_scaled, y_train)"
      ],
      "metadata": {
        "colab": {
          "base_uri": "https://localhost:8080/",
          "height": 75
        },
        "id": "4jr0NUIgMjfZ",
        "outputId": "65d5af68-be40-4f60-cdad-d3154871c83c"
      },
      "execution_count": null,
      "outputs": [
        {
          "output_type": "execute_result",
          "data": {
            "text/plain": [
              "RandomForestClassifier(criterion='entropy', n_estimators=300, random_state=0)"
            ],
            "text/html": [
              "<style>#sk-container-id-3 {color: black;background-color: white;}#sk-container-id-3 pre{padding: 0;}#sk-container-id-3 div.sk-toggleable {background-color: white;}#sk-container-id-3 label.sk-toggleable__label {cursor: pointer;display: block;width: 100%;margin-bottom: 0;padding: 0.3em;box-sizing: border-box;text-align: center;}#sk-container-id-3 label.sk-toggleable__label-arrow:before {content: \"▸\";float: left;margin-right: 0.25em;color: #696969;}#sk-container-id-3 label.sk-toggleable__label-arrow:hover:before {color: black;}#sk-container-id-3 div.sk-estimator:hover label.sk-toggleable__label-arrow:before {color: black;}#sk-container-id-3 div.sk-toggleable__content {max-height: 0;max-width: 0;overflow: hidden;text-align: left;background-color: #f0f8ff;}#sk-container-id-3 div.sk-toggleable__content pre {margin: 0.2em;color: black;border-radius: 0.25em;background-color: #f0f8ff;}#sk-container-id-3 input.sk-toggleable__control:checked~div.sk-toggleable__content {max-height: 200px;max-width: 100%;overflow: auto;}#sk-container-id-3 input.sk-toggleable__control:checked~label.sk-toggleable__label-arrow:before {content: \"▾\";}#sk-container-id-3 div.sk-estimator input.sk-toggleable__control:checked~label.sk-toggleable__label {background-color: #d4ebff;}#sk-container-id-3 div.sk-label input.sk-toggleable__control:checked~label.sk-toggleable__label {background-color: #d4ebff;}#sk-container-id-3 input.sk-hidden--visually {border: 0;clip: rect(1px 1px 1px 1px);clip: rect(1px, 1px, 1px, 1px);height: 1px;margin: -1px;overflow: hidden;padding: 0;position: absolute;width: 1px;}#sk-container-id-3 div.sk-estimator {font-family: monospace;background-color: #f0f8ff;border: 1px dotted black;border-radius: 0.25em;box-sizing: border-box;margin-bottom: 0.5em;}#sk-container-id-3 div.sk-estimator:hover {background-color: #d4ebff;}#sk-container-id-3 div.sk-parallel-item::after {content: \"\";width: 100%;border-bottom: 1px solid gray;flex-grow: 1;}#sk-container-id-3 div.sk-label:hover label.sk-toggleable__label {background-color: #d4ebff;}#sk-container-id-3 div.sk-serial::before {content: \"\";position: absolute;border-left: 1px solid gray;box-sizing: border-box;top: 0;bottom: 0;left: 50%;z-index: 0;}#sk-container-id-3 div.sk-serial {display: flex;flex-direction: column;align-items: center;background-color: white;padding-right: 0.2em;padding-left: 0.2em;position: relative;}#sk-container-id-3 div.sk-item {position: relative;z-index: 1;}#sk-container-id-3 div.sk-parallel {display: flex;align-items: stretch;justify-content: center;background-color: white;position: relative;}#sk-container-id-3 div.sk-item::before, #sk-container-id-3 div.sk-parallel-item::before {content: \"\";position: absolute;border-left: 1px solid gray;box-sizing: border-box;top: 0;bottom: 0;left: 50%;z-index: -1;}#sk-container-id-3 div.sk-parallel-item {display: flex;flex-direction: column;z-index: 1;position: relative;background-color: white;}#sk-container-id-3 div.sk-parallel-item:first-child::after {align-self: flex-end;width: 50%;}#sk-container-id-3 div.sk-parallel-item:last-child::after {align-self: flex-start;width: 50%;}#sk-container-id-3 div.sk-parallel-item:only-child::after {width: 0;}#sk-container-id-3 div.sk-dashed-wrapped {border: 1px dashed gray;margin: 0 0.4em 0.5em 0.4em;box-sizing: border-box;padding-bottom: 0.4em;background-color: white;}#sk-container-id-3 div.sk-label label {font-family: monospace;font-weight: bold;display: inline-block;line-height: 1.2em;}#sk-container-id-3 div.sk-label-container {text-align: center;}#sk-container-id-3 div.sk-container {/* jupyter's `normalize.less` sets `[hidden] { display: none; }` but bootstrap.min.css set `[hidden] { display: none !important; }` so we also need the `!important` here to be able to override the default hidden behavior on the sphinx rendered scikit-learn.org. See: https://github.com/scikit-learn/scikit-learn/issues/21755 */display: inline-block !important;position: relative;}#sk-container-id-3 div.sk-text-repr-fallback {display: none;}</style><div id=\"sk-container-id-3\" class=\"sk-top-container\"><div class=\"sk-text-repr-fallback\"><pre>RandomForestClassifier(criterion=&#x27;entropy&#x27;, n_estimators=300, random_state=0)</pre><b>In a Jupyter environment, please rerun this cell to show the HTML representation or trust the notebook. <br />On GitHub, the HTML representation is unable to render, please try loading this page with nbviewer.org.</b></div><div class=\"sk-container\" hidden><div class=\"sk-item\"><div class=\"sk-estimator sk-toggleable\"><input class=\"sk-toggleable__control sk-hidden--visually\" id=\"sk-estimator-id-3\" type=\"checkbox\" checked><label for=\"sk-estimator-id-3\" class=\"sk-toggleable__label sk-toggleable__label-arrow\">RandomForestClassifier</label><div class=\"sk-toggleable__content\"><pre>RandomForestClassifier(criterion=&#x27;entropy&#x27;, n_estimators=300, random_state=0)</pre></div></div></div></div></div>"
            ]
          },
          "metadata": {},
          "execution_count": 34
        }
      ],
      "id": "4jr0NUIgMjfZ"
    },
    {
      "cell_type": "code",
      "source": [
        "y_pred = classifier_Random.predict(X_test_scaled)"
      ],
      "metadata": {
        "id": "sC6DTxu_MqGo"
      },
      "execution_count": null,
      "outputs": [],
      "id": "sC6DTxu_MqGo"
    },
    {
      "cell_type": "code",
      "source": [
        "# calculate Accuracy\n",
        "from sklearn.metrics import accuracy_score\n",
        "print('Accuracy: %.2f' % (accuracy_score(y_test, y_pred)*100))"
      ],
      "metadata": {
        "colab": {
          "base_uri": "https://localhost:8080/"
        },
        "id": "lnbFh0gCMsVq",
        "outputId": "ea129955-a8c1-48ad-e5de-c3d386276de7"
      },
      "execution_count": null,
      "outputs": [
        {
          "output_type": "stream",
          "name": "stdout",
          "text": [
            "Accuracy: 86.25\n"
          ]
        }
      ],
      "id": "lnbFh0gCMsVq"
    },
    {
      "cell_type": "code",
      "source": [
        "import pickle \n",
        "print(\"[INFO] Saving model...\")\n",
        "# Save the trained model as a pickle string. \n",
        "saved_model=pickle.dump(classifier_Random,open('/content/drive/My Drive/project7_random_forest.pkl', 'wb')) \n",
        "# Saving model to disk"
      ],
      "metadata": {
        "colab": {
          "base_uri": "https://localhost:8080/"
        },
        "id": "74gU11OlMuw5",
        "outputId": "82a8ce25-1c38-47c8-b2c4-0dc1f5f9e0f8"
      },
      "execution_count": null,
      "outputs": [
        {
          "output_type": "stream",
          "name": "stdout",
          "text": [
            "[INFO] Saving model...\n"
          ]
        }
      ],
      "id": "74gU11OlMuw5"
    },
    {
      "cell_type": "markdown",
      "source": [
        "## **KNN**"
      ],
      "metadata": {
        "id": "ASM4aLgyM1A7"
      },
      "id": "ASM4aLgyM1A7"
    },
    {
      "cell_type": "code",
      "source": [
        "# Fitting K-NN to the Training set\n",
        "from sklearn.neighbors import KNeighborsClassifier\n",
        "classifier_knn =  KNeighborsClassifier(n_neighbors = 5, metric = 'minkowski', p = 2)\n",
        "classifier_knn.fit(X_train_scaled, y_train)"
      ],
      "metadata": {
        "colab": {
          "base_uri": "https://localhost:8080/",
          "height": 75
        },
        "id": "y-fEzDWNMzHX",
        "outputId": "c1f2f339-d67c-476c-969b-8e2b5d2d7372"
      },
      "execution_count": null,
      "outputs": [
        {
          "output_type": "execute_result",
          "data": {
            "text/plain": [
              "KNeighborsClassifier()"
            ],
            "text/html": [
              "<style>#sk-container-id-4 {color: black;background-color: white;}#sk-container-id-4 pre{padding: 0;}#sk-container-id-4 div.sk-toggleable {background-color: white;}#sk-container-id-4 label.sk-toggleable__label {cursor: pointer;display: block;width: 100%;margin-bottom: 0;padding: 0.3em;box-sizing: border-box;text-align: center;}#sk-container-id-4 label.sk-toggleable__label-arrow:before {content: \"▸\";float: left;margin-right: 0.25em;color: #696969;}#sk-container-id-4 label.sk-toggleable__label-arrow:hover:before {color: black;}#sk-container-id-4 div.sk-estimator:hover label.sk-toggleable__label-arrow:before {color: black;}#sk-container-id-4 div.sk-toggleable__content {max-height: 0;max-width: 0;overflow: hidden;text-align: left;background-color: #f0f8ff;}#sk-container-id-4 div.sk-toggleable__content pre {margin: 0.2em;color: black;border-radius: 0.25em;background-color: #f0f8ff;}#sk-container-id-4 input.sk-toggleable__control:checked~div.sk-toggleable__content {max-height: 200px;max-width: 100%;overflow: auto;}#sk-container-id-4 input.sk-toggleable__control:checked~label.sk-toggleable__label-arrow:before {content: \"▾\";}#sk-container-id-4 div.sk-estimator input.sk-toggleable__control:checked~label.sk-toggleable__label {background-color: #d4ebff;}#sk-container-id-4 div.sk-label input.sk-toggleable__control:checked~label.sk-toggleable__label {background-color: #d4ebff;}#sk-container-id-4 input.sk-hidden--visually {border: 0;clip: rect(1px 1px 1px 1px);clip: rect(1px, 1px, 1px, 1px);height: 1px;margin: -1px;overflow: hidden;padding: 0;position: absolute;width: 1px;}#sk-container-id-4 div.sk-estimator {font-family: monospace;background-color: #f0f8ff;border: 1px dotted black;border-radius: 0.25em;box-sizing: border-box;margin-bottom: 0.5em;}#sk-container-id-4 div.sk-estimator:hover {background-color: #d4ebff;}#sk-container-id-4 div.sk-parallel-item::after {content: \"\";width: 100%;border-bottom: 1px solid gray;flex-grow: 1;}#sk-container-id-4 div.sk-label:hover label.sk-toggleable__label {background-color: #d4ebff;}#sk-container-id-4 div.sk-serial::before {content: \"\";position: absolute;border-left: 1px solid gray;box-sizing: border-box;top: 0;bottom: 0;left: 50%;z-index: 0;}#sk-container-id-4 div.sk-serial {display: flex;flex-direction: column;align-items: center;background-color: white;padding-right: 0.2em;padding-left: 0.2em;position: relative;}#sk-container-id-4 div.sk-item {position: relative;z-index: 1;}#sk-container-id-4 div.sk-parallel {display: flex;align-items: stretch;justify-content: center;background-color: white;position: relative;}#sk-container-id-4 div.sk-item::before, #sk-container-id-4 div.sk-parallel-item::before {content: \"\";position: absolute;border-left: 1px solid gray;box-sizing: border-box;top: 0;bottom: 0;left: 50%;z-index: -1;}#sk-container-id-4 div.sk-parallel-item {display: flex;flex-direction: column;z-index: 1;position: relative;background-color: white;}#sk-container-id-4 div.sk-parallel-item:first-child::after {align-self: flex-end;width: 50%;}#sk-container-id-4 div.sk-parallel-item:last-child::after {align-self: flex-start;width: 50%;}#sk-container-id-4 div.sk-parallel-item:only-child::after {width: 0;}#sk-container-id-4 div.sk-dashed-wrapped {border: 1px dashed gray;margin: 0 0.4em 0.5em 0.4em;box-sizing: border-box;padding-bottom: 0.4em;background-color: white;}#sk-container-id-4 div.sk-label label {font-family: monospace;font-weight: bold;display: inline-block;line-height: 1.2em;}#sk-container-id-4 div.sk-label-container {text-align: center;}#sk-container-id-4 div.sk-container {/* jupyter's `normalize.less` sets `[hidden] { display: none; }` but bootstrap.min.css set `[hidden] { display: none !important; }` so we also need the `!important` here to be able to override the default hidden behavior on the sphinx rendered scikit-learn.org. See: https://github.com/scikit-learn/scikit-learn/issues/21755 */display: inline-block !important;position: relative;}#sk-container-id-4 div.sk-text-repr-fallback {display: none;}</style><div id=\"sk-container-id-4\" class=\"sk-top-container\"><div class=\"sk-text-repr-fallback\"><pre>KNeighborsClassifier()</pre><b>In a Jupyter environment, please rerun this cell to show the HTML representation or trust the notebook. <br />On GitHub, the HTML representation is unable to render, please try loading this page with nbviewer.org.</b></div><div class=\"sk-container\" hidden><div class=\"sk-item\"><div class=\"sk-estimator sk-toggleable\"><input class=\"sk-toggleable__control sk-hidden--visually\" id=\"sk-estimator-id-4\" type=\"checkbox\" checked><label for=\"sk-estimator-id-4\" class=\"sk-toggleable__label sk-toggleable__label-arrow\">KNeighborsClassifier</label><div class=\"sk-toggleable__content\"><pre>KNeighborsClassifier()</pre></div></div></div></div></div>"
            ]
          },
          "metadata": {},
          "execution_count": 38
        }
      ],
      "id": "y-fEzDWNMzHX"
    },
    {
      "cell_type": "code",
      "source": [
        "y_pred = classifier_knn.predict(X_test_scaled)"
      ],
      "metadata": {
        "id": "TboJaIHPM4eg"
      },
      "execution_count": null,
      "outputs": [],
      "id": "TboJaIHPM4eg"
    },
    {
      "cell_type": "code",
      "source": [
        "# calculate Accuracy\n",
        "from sklearn.metrics import accuracy_score\n",
        "print('Accuracy: %.2f' % (accuracy_score(y_test, y_pred)*100))"
      ],
      "metadata": {
        "colab": {
          "base_uri": "https://localhost:8080/"
        },
        "id": "eEmgEF_5M581",
        "outputId": "ac92c5ae-8b2f-4eff-9403-ee740afc861f"
      },
      "execution_count": null,
      "outputs": [
        {
          "output_type": "stream",
          "name": "stdout",
          "text": [
            "Accuracy: 83.45\n"
          ]
        }
      ],
      "id": "eEmgEF_5M581"
    },
    {
      "cell_type": "code",
      "source": [
        "import pickle \n",
        "print(\"[INFO] Saving model...\")\n",
        "# Save the trained model as a pickle string. \n",
        "saved_model=pickle.dump(classifier_knn,open('/content/drive/My Drive/project7_knn.pkl', 'wb')) \n",
        "# Saving model to disk"
      ],
      "metadata": {
        "colab": {
          "base_uri": "https://localhost:8080/"
        },
        "id": "vJd2PrpDM74l",
        "outputId": "fb4c30e2-c9c9-470b-a52e-c207f60df362"
      },
      "execution_count": null,
      "outputs": [
        {
          "output_type": "stream",
          "name": "stdout",
          "text": [
            "[INFO] Saving model...\n"
          ]
        }
      ],
      "id": "vJd2PrpDM74l"
    },
    {
      "cell_type": "markdown",
      "source": [
        "### **NAIVE_BAYES**"
      ],
      "metadata": {
        "id": "brTIKMiKNCHj"
      },
      "id": "brTIKMiKNCHj"
    },
    {
      "cell_type": "code",
      "source": [
        "# Fitting Naive Bayes to the Training set\n",
        "from sklearn.naive_bayes import GaussianNB\n",
        "classifier = GaussianNB()\n",
        "classifier.fit(X_train_scaled, y_train)"
      ],
      "metadata": {
        "colab": {
          "base_uri": "https://localhost:8080/",
          "height": 75
        },
        "id": "wYX4ww8xM_0U",
        "outputId": "4639ccf1-0f5a-4397-89b4-a3e2f8a4aa21"
      },
      "execution_count": null,
      "outputs": [
        {
          "output_type": "execute_result",
          "data": {
            "text/plain": [
              "GaussianNB()"
            ],
            "text/html": [
              "<style>#sk-container-id-5 {color: black;background-color: white;}#sk-container-id-5 pre{padding: 0;}#sk-container-id-5 div.sk-toggleable {background-color: white;}#sk-container-id-5 label.sk-toggleable__label {cursor: pointer;display: block;width: 100%;margin-bottom: 0;padding: 0.3em;box-sizing: border-box;text-align: center;}#sk-container-id-5 label.sk-toggleable__label-arrow:before {content: \"▸\";float: left;margin-right: 0.25em;color: #696969;}#sk-container-id-5 label.sk-toggleable__label-arrow:hover:before {color: black;}#sk-container-id-5 div.sk-estimator:hover label.sk-toggleable__label-arrow:before {color: black;}#sk-container-id-5 div.sk-toggleable__content {max-height: 0;max-width: 0;overflow: hidden;text-align: left;background-color: #f0f8ff;}#sk-container-id-5 div.sk-toggleable__content pre {margin: 0.2em;color: black;border-radius: 0.25em;background-color: #f0f8ff;}#sk-container-id-5 input.sk-toggleable__control:checked~div.sk-toggleable__content {max-height: 200px;max-width: 100%;overflow: auto;}#sk-container-id-5 input.sk-toggleable__control:checked~label.sk-toggleable__label-arrow:before {content: \"▾\";}#sk-container-id-5 div.sk-estimator input.sk-toggleable__control:checked~label.sk-toggleable__label {background-color: #d4ebff;}#sk-container-id-5 div.sk-label input.sk-toggleable__control:checked~label.sk-toggleable__label {background-color: #d4ebff;}#sk-container-id-5 input.sk-hidden--visually {border: 0;clip: rect(1px 1px 1px 1px);clip: rect(1px, 1px, 1px, 1px);height: 1px;margin: -1px;overflow: hidden;padding: 0;position: absolute;width: 1px;}#sk-container-id-5 div.sk-estimator {font-family: monospace;background-color: #f0f8ff;border: 1px dotted black;border-radius: 0.25em;box-sizing: border-box;margin-bottom: 0.5em;}#sk-container-id-5 div.sk-estimator:hover {background-color: #d4ebff;}#sk-container-id-5 div.sk-parallel-item::after {content: \"\";width: 100%;border-bottom: 1px solid gray;flex-grow: 1;}#sk-container-id-5 div.sk-label:hover label.sk-toggleable__label {background-color: #d4ebff;}#sk-container-id-5 div.sk-serial::before {content: \"\";position: absolute;border-left: 1px solid gray;box-sizing: border-box;top: 0;bottom: 0;left: 50%;z-index: 0;}#sk-container-id-5 div.sk-serial {display: flex;flex-direction: column;align-items: center;background-color: white;padding-right: 0.2em;padding-left: 0.2em;position: relative;}#sk-container-id-5 div.sk-item {position: relative;z-index: 1;}#sk-container-id-5 div.sk-parallel {display: flex;align-items: stretch;justify-content: center;background-color: white;position: relative;}#sk-container-id-5 div.sk-item::before, #sk-container-id-5 div.sk-parallel-item::before {content: \"\";position: absolute;border-left: 1px solid gray;box-sizing: border-box;top: 0;bottom: 0;left: 50%;z-index: -1;}#sk-container-id-5 div.sk-parallel-item {display: flex;flex-direction: column;z-index: 1;position: relative;background-color: white;}#sk-container-id-5 div.sk-parallel-item:first-child::after {align-self: flex-end;width: 50%;}#sk-container-id-5 div.sk-parallel-item:last-child::after {align-self: flex-start;width: 50%;}#sk-container-id-5 div.sk-parallel-item:only-child::after {width: 0;}#sk-container-id-5 div.sk-dashed-wrapped {border: 1px dashed gray;margin: 0 0.4em 0.5em 0.4em;box-sizing: border-box;padding-bottom: 0.4em;background-color: white;}#sk-container-id-5 div.sk-label label {font-family: monospace;font-weight: bold;display: inline-block;line-height: 1.2em;}#sk-container-id-5 div.sk-label-container {text-align: center;}#sk-container-id-5 div.sk-container {/* jupyter's `normalize.less` sets `[hidden] { display: none; }` but bootstrap.min.css set `[hidden] { display: none !important; }` so we also need the `!important` here to be able to override the default hidden behavior on the sphinx rendered scikit-learn.org. See: https://github.com/scikit-learn/scikit-learn/issues/21755 */display: inline-block !important;position: relative;}#sk-container-id-5 div.sk-text-repr-fallback {display: none;}</style><div id=\"sk-container-id-5\" class=\"sk-top-container\"><div class=\"sk-text-repr-fallback\"><pre>GaussianNB()</pre><b>In a Jupyter environment, please rerun this cell to show the HTML representation or trust the notebook. <br />On GitHub, the HTML representation is unable to render, please try loading this page with nbviewer.org.</b></div><div class=\"sk-container\" hidden><div class=\"sk-item\"><div class=\"sk-estimator sk-toggleable\"><input class=\"sk-toggleable__control sk-hidden--visually\" id=\"sk-estimator-id-5\" type=\"checkbox\" checked><label for=\"sk-estimator-id-5\" class=\"sk-toggleable__label sk-toggleable__label-arrow\">GaussianNB</label><div class=\"sk-toggleable__content\"><pre>GaussianNB()</pre></div></div></div></div></div>"
            ]
          },
          "metadata": {},
          "execution_count": 42
        }
      ],
      "id": "wYX4ww8xM_0U"
    },
    {
      "cell_type": "code",
      "source": [
        "y_pred = classifier.predict(X_test_scaled)"
      ],
      "metadata": {
        "id": "QE7XS9PQNGEn"
      },
      "execution_count": null,
      "outputs": [],
      "id": "QE7XS9PQNGEn"
    },
    {
      "cell_type": "code",
      "source": [
        "# calculate Accuracy\n",
        "from sklearn.metrics import accuracy_score\n",
        "print('Accuracy: %.2f' % (accuracy_score(y_test, y_pred)*100))"
      ],
      "metadata": {
        "colab": {
          "base_uri": "https://localhost:8080/"
        },
        "id": "1jcgsM8ENKa8",
        "outputId": "47a50063-bb2f-47d9-dce3-ac2ba948ca93"
      },
      "execution_count": null,
      "outputs": [
        {
          "output_type": "stream",
          "name": "stdout",
          "text": [
            "Accuracy: 82.75\n"
          ]
        }
      ],
      "id": "1jcgsM8ENKa8"
    },
    {
      "cell_type": "code",
      "source": [
        "import pickle \n",
        "print(\"[INFO] Saving model...\")\n",
        "# Save the trained model as a pickle string. \n",
        "saved_model=pickle.dump(classifier_knn,open('/content/drive/My Drive/project7_naive.pkl', 'wb')) \n",
        "# Saving model to disk"
      ],
      "metadata": {
        "colab": {
          "base_uri": "https://localhost:8080/"
        },
        "id": "_5boiw2gNMsR",
        "outputId": "2a7a8c9f-8b51-4e1a-f67a-1dace0555722"
      },
      "execution_count": null,
      "outputs": [
        {
          "output_type": "stream",
          "name": "stdout",
          "text": [
            "[INFO] Saving model...\n"
          ]
        }
      ],
      "id": "_5boiw2gNMsR"
    },
    {
      "cell_type": "markdown",
      "source": [
        "## **GUI**"
      ],
      "metadata": {
        "id": "WNbvu41WNgu-"
      },
      "id": "WNbvu41WNgu-"
    },
    {
      "cell_type": "code",
      "source": [
        "%mkdir templates -p"
      ],
      "metadata": {
        "id": "Qfix0EkTNQ3g"
      },
      "execution_count": null,
      "outputs": [],
      "id": "Qfix0EkTNQ3g"
    },
    {
      "cell_type": "code",
      "source": [
        "%%writefile templates/index.html\n",
        "<html>\n",
        "<head>\n",
        "<link href=\"//maxcdn.bootstrapcdn.com/bootstrap/4.1.1/css/bootstrap.min.css\" rel=\"stylesheet\" id=\"bootstrap-css\">\n",
        "<script src=\"//maxcdn.bootstrapcdn.com/bootstrap/4.1.1/js/bootstrap.min.js\"></script>\n",
        "<script src=\"https://ajax.googleapis.com/ajax/libs/jquery/3.6.0/jquery.min.js\"></script>\n",
        "<!-- CSS only -->\n",
        "<link href=\"https://cdn.jsdelivr.net/npm/bootstrap@5.2.0/dist/css/bootstrap.min.css\" rel=\"stylesheet\" integrity=\"sha384-gH2yIJqKdNHPEq0n4Mqa/HGKIhSkIHeL5AyhkYV8i59U5AR6csBvApHHNl/vI1Bx\" crossorigin=\"anonymous\">\n",
        "<!-- JavaScript Bundle with Popper -->\n",
        "<script src=\"https://cdn.jsdelivr.net/npm/bootstrap@5.2.0/dist/js/bootstrap.bundle.min.js\" integrity=\"sha384-A3rJD856KowSb7dwlZdYEkO39Gagi7vIsF0jrRAoQmDKKtQBHUuLZ9AsSv4jD4Xa\" crossorigin=\"anonymous\"></script>\n",
        "<style>\n",
        ".register{\n",
        "    background: -webkit-linear-gradient(left, #3931af, #00c6ff);\n",
        "    margin-top: 3%;\n",
        "    padding: 3%;\n",
        "}\n",
        ".register-left{\n",
        "    text-align: center;\n",
        "    color: #fff;\n",
        "    margin-top: 4%;\n",
        "}\n",
        ".register-left input{\n",
        "    border: none;\n",
        "    border-radius: 1.5rem;\n",
        "    padding: 2%;\n",
        "    width: 60%;\n",
        "    background: #f8f9fa;\n",
        "    font-weight: bold;\n",
        "    color: #383d41;\n",
        "    margin-top: 30%;\n",
        "    margin-bottom: 3%;\n",
        "    cursor: pointer;\n",
        "}\n",
        ".register-right{\n",
        "    background: #f8f9fa;\n",
        "    border-top-left-radius: 10% 50%;\n",
        "    border-bottom-left-radius: 10% 50%;\n",
        "}\n",
        ".register-left img{\n",
        "    margin-top: 15%;\n",
        "    margin-bottom: 5%;\n",
        "    width: 25%;\n",
        "    -webkit-animation: mover 2s infinite  alternate;\n",
        "    animation: mover 1s infinite  alternate;\n",
        "}\n",
        "@-webkit-keyframes mover {\n",
        "    0% { transform: translateY(0); }\n",
        "    100% { transform: translateY(-20px); }\n",
        "}\n",
        "@keyframes mover {\n",
        "    0% { transform: translateY(0); }\n",
        "    100% { transform: translateY(-20px); }\n",
        "}\n",
        ".register-left p{\n",
        "    font-weight: lighter;\n",
        "    padding: 12%;\n",
        "    margin-top: -9%;\n",
        "}\n",
        ".register .register-form{\n",
        "    padding: 10%;\n",
        "    margin-top: 10%;\n",
        "}\n",
        ".btnRegister{\n",
        "    float: right;\n",
        "    margin-top: 10%;\n",
        "    border: none;\n",
        "    border-radius: 1.5rem;\n",
        "    padding: 2%;\n",
        "    background: #0062cc;\n",
        "    color: #fff;\n",
        "    font-weight: 600;\n",
        "    width: 50%;\n",
        "    cursor: pointer;\n",
        "}\n",
        ".register .nav-tabs{\n",
        "    margin-top: 3%;\n",
        "    border: none;\n",
        "    background: #0062cc;\n",
        "    border-radius: 1.5rem;\n",
        "    width: 28%;\n",
        "    float: right;\n",
        "}\n",
        ".register .nav-tabs .nav-link{\n",
        "    padding: 2%;\n",
        "    height: 34px;\n",
        "    font-weight: 600;\n",
        "    color: #fff;\n",
        "    border-top-right-radius: 1.5rem;\n",
        "    border-bottom-right-radius: 1.5rem;\n",
        "}\n",
        ".register .nav-tabs .nav-link:hover{\n",
        "    border: none;\n",
        "}\n",
        ".register .nav-tabs .nav-link.active{\n",
        "    width: 100px;\n",
        "    color: #0062cc;\n",
        "    border: 2px solid #0062cc;\n",
        "    border-top-left-radius: 1.5rem;\n",
        "    border-bottom-left-radius: 1.5rem;\n",
        "}\n",
        ".register-heading{\n",
        "    text-align: center;\n",
        "    margin-top: 8%;\n",
        "    margin-bottom: -15%;\n",
        "    color: #495057;\n",
        "}\n",
        "\n",
        "</style>\n",
        "</head>\n",
        "\n",
        "<body>\n",
        "<form action=\"{{ url_for('predict')}}\"method=\"get\">\n",
        "<div class=\"container register\">\n",
        "                <div class=\"row\">\n",
        "                    <div class=\"col-md-3 register-left\">\n",
        "                        <h2>Session on Multiple Linear Regression</h2>\n",
        "                        <h2>ML Algorithms</h2>\n",
        "                        <br>\n",
        "                        <h3>Profit </h3>\n",
        "                        <h3>Project Deployment</h3>\n",
        "                        <br>\n",
        "                        <h4>Developed By Deepak Moud</h4>\n",
        "                        \n",
        "                    </div>\n",
        "                    <div class=\"col-md-9 register-right\">\n",
        "                        \n",
        "                        <div class=\"tab-content\" id=\"myTabContent\">\n",
        "                            <div class=\"tab-pane fade show active\" id=\"home\" role=\"tabpanel\" aria-labelledby=\"home-tab\">\n",
        "                                <h3 class=\"register-heading\">Prediction Using All Models</h3>\n",
        "                                <div class=\"row register-form\">\n",
        "                                    <div class=\"col-md-6\">\n",
        "                                        <div class=\"form-group\">\n",
        "                                            <input type=\"text\" class=\"form-control\" placeholder=\"Credit Score *\" name=\"credit\" />\n",
        "                                        </div>\n",
        "                                        <div class=\"form-group\">\n",
        "                                            <select name=\"geography\" class=\"form-control\">\n",
        "                                                <option class=\"hidden\"  selected disabled>Select Geography</option>\n",
        "                                                <option value=\"0\">France</option>\n",
        "                                                <option value=\"1\">Spain</option>\n",
        "                                                <option value=\"2\">Germany</option>\n",
        "                                                \n",
        "                                            </select>\n",
        "                                        </div>\n",
        "                                        \n",
        "                                        <div class=\"form-group\">\n",
        "                                            <input type=\"text\" class=\"form-control\" placeholder=\"Age *\" name=\"age\" />\n",
        "                                        </div>\n",
        "                                        <div class=\"form-group\">\n",
        "                                            <input type=\"text\" class=\"form-control\"  placeholder=\"Tenure *\" name=\"tenure\" />\n",
        "                                        </div>\n",
        "                                        <div class=\"form-group\">\n",
        "                                            <input type=\"text\" class=\"form-control\" placeholder=\"Balance *\" name=\"balance\" />\n",
        "                                        </div>\n",
        "                                        \n",
        "                                        \n",
        "                                        \n",
        "                                    </div>\n",
        "                                    <div class=\"col-md-6\">\n",
        "                                        <div class=\"form-group\">\n",
        "                                            <input type=\"text\" name=\"num_p\" class=\"form-control\" placeholder=\"Number of Products *\" value=\"\" />\n",
        "                                        </div>\n",
        "                                        \n",
        "                                        \n",
        "                                        \n",
        "                                        <div class=\"form-group\">\n",
        "                                            <input type=\"text\" name=\"salary\" class=\"form-control\" placeholder=\"Estimated Salary *\" value=\"\" />\n",
        "                                        </div>\n",
        "                                        <div class=\"form-group\">\n",
        "                                            <div class=\"maxl\">\n",
        "                                                <label class=\"radio inline\"> Credit Card?\n",
        "                                                    <input type=\"radio\" name=\"card\" value=\"1\" checked>\n",
        "                                                    <span> Yes </span> \n",
        "                                                </label>\n",
        "                                                <label class=\"radio inline\"> \n",
        "                                                    <input type=\"radio\" name=\"card\" value=\"0\">\n",
        "                                                    <span>No </span> \n",
        "                                                </label>\n",
        "                                            </div>\n",
        "                                        </div>\n",
        "                                        <div class=\"form-group\">\n",
        "                                            <div class=\"maxl\">\n",
        "                                                <label class=\"radio inline\"> Active Member? \n",
        "                                                    <input type=\"radio\" name=\"active\" value=\"1\" checked>\n",
        "                                                    <span> Yes </span> \n",
        "                                                </label>\n",
        "                                                <label class=\"radio inline\"> \n",
        "                                                    <input type=\"radio\" name=\"active\" value=\"0\">\n",
        "                                                    <span>No </span> \n",
        "                                                </label>\n",
        "                                            </div>\n",
        "                                        </div>\n",
        "                                        <div class=\"form-group\">\n",
        "                                            <div class=\"maxl\">\n",
        "                                                <label class=\"radio inline\"> Gender\n",
        "                                                    <input type=\"radio\" name=\"gender\" value=\"1\" checked>\n",
        "                                                    <span> Male </span> \n",
        "                                                </label>\n",
        "                                                <label class=\"radio inline\"> \n",
        "                                                    <input type=\"radio\" name=\"gender\" value=\"0\">\n",
        "                                                    <span>Female </span> \n",
        "                                                </label>\n",
        "                                            </div>\n",
        "                                        </div>\n",
        "                                        \n",
        "                                        \n",
        "                                    </div>\n",
        "                                    <div class=\"col-md-12\">\n",
        "                                        <div class=\"form-group\">\n",
        "                                            <select name=\"model1\" class=\"form-control\">\n",
        "                                                <option class=\"hidden\"  selected disabled>Select Model</option>\n",
        "                                                <option value=\"0\">Decision Tree</option>\n",
        "                                                <option value=\"1\">SVM</option>\n",
        "                                                <option value=\"2\">Random Forest</option>\n",
        "                                                <option value=\"3\">KNN</option>\n",
        "                                                <option value=\"4\">Naive Bayes</option>\n",
        "                                                \n",
        "                                            </select>\n",
        "                                        </div>\n",
        "                                        </div>\n",
        "                                        <div class=\"col-md-6\">\n",
        "                                        <input type=\"submit\" class=\"btnRegister\"  value=\"Predict\"/>\n",
        "                                        </div>\n",
        "                                </div><center>{{ prediction_text }}</center>\n",
        "                               \n",
        "                            \n",
        "                                </div>\n",
        "                            </div> \n",
        "                        </div>\n",
        "                    </div>\n",
        "              \n",
        "                    </form>\n",
        "                    \n",
        "                    \n",
        "    </body>\n",
        "</html>\n",
        "              "
      ],
      "metadata": {
        "colab": {
          "base_uri": "https://localhost:8080/"
        },
        "id": "aYom300ZNi4u",
        "outputId": "395e71af-02f4-45b0-a237-4b02bf8837eb"
      },
      "execution_count": null,
      "outputs": [
        {
          "output_type": "stream",
          "name": "stdout",
          "text": [
            "Writing templates/index.html\n"
          ]
        }
      ],
      "id": "aYom300ZNi4u"
    },
    {
      "cell_type": "code",
      "source": [
        "!pip install flask-ngrok"
      ],
      "metadata": {
        "colab": {
          "base_uri": "https://localhost:8080/"
        },
        "id": "2N88BaBsZUc1",
        "outputId": "e152fb4b-994d-40c5-81a2-e1545dea9d1f"
      },
      "execution_count": null,
      "outputs": [
        {
          "output_type": "stream",
          "name": "stdout",
          "text": [
            "Looking in indexes: https://pypi.org/simple, https://us-python.pkg.dev/colab-wheels/public/simple/\n",
            "Collecting flask-ngrok\n",
            "  Downloading flask_ngrok-0.0.25-py3-none-any.whl (3.1 kB)\n",
            "Requirement already satisfied: requests in /usr/local/lib/python3.10/dist-packages (from flask-ngrok) (2.27.1)\n",
            "Requirement already satisfied: Flask>=0.8 in /usr/local/lib/python3.10/dist-packages (from flask-ngrok) (2.2.4)\n",
            "Requirement already satisfied: click>=8.0 in /usr/local/lib/python3.10/dist-packages (from Flask>=0.8->flask-ngrok) (8.1.3)\n",
            "Requirement already satisfied: itsdangerous>=2.0 in /usr/local/lib/python3.10/dist-packages (from Flask>=0.8->flask-ngrok) (2.1.2)\n",
            "Requirement already satisfied: Jinja2>=3.0 in /usr/local/lib/python3.10/dist-packages (from Flask>=0.8->flask-ngrok) (3.1.2)\n",
            "Requirement already satisfied: Werkzeug>=2.2.2 in /usr/local/lib/python3.10/dist-packages (from Flask>=0.8->flask-ngrok) (2.3.0)\n",
            "Requirement already satisfied: charset-normalizer~=2.0.0 in /usr/local/lib/python3.10/dist-packages (from requests->flask-ngrok) (2.0.12)\n",
            "Requirement already satisfied: urllib3<1.27,>=1.21.1 in /usr/local/lib/python3.10/dist-packages (from requests->flask-ngrok) (1.26.15)\n",
            "Requirement already satisfied: idna<4,>=2.5 in /usr/local/lib/python3.10/dist-packages (from requests->flask-ngrok) (3.4)\n",
            "Requirement already satisfied: certifi>=2017.4.17 in /usr/local/lib/python3.10/dist-packages (from requests->flask-ngrok) (2022.12.7)\n",
            "Requirement already satisfied: MarkupSafe>=2.0 in /usr/local/lib/python3.10/dist-packages (from Jinja2>=3.0->Flask>=0.8->flask-ngrok) (2.1.2)\n",
            "Installing collected packages: flask-ngrok\n",
            "Successfully installed flask-ngrok-0.0.25\n"
          ]
        }
      ],
      "id": "2N88BaBsZUc1"
    },
    {
      "cell_type": "code",
      "source": [
        "!pip install pyngrok"
      ],
      "metadata": {
        "colab": {
          "base_uri": "https://localhost:8080/"
        },
        "id": "fNenM027ZU5L",
        "outputId": "5b2957ff-7f71-4d1a-9dc3-728417134da9"
      },
      "execution_count": null,
      "outputs": [
        {
          "output_type": "stream",
          "name": "stdout",
          "text": [
            "Looking in indexes: https://pypi.org/simple, https://us-python.pkg.dev/colab-wheels/public/simple/\n",
            "Collecting pyngrok\n",
            "  Downloading pyngrok-6.0.0.tar.gz (681 kB)\n",
            "\u001b[2K     \u001b[90m━━━━━━━━━━━━━━━━━━━━━━━━━━━━━━━━━━━━━━\u001b[0m \u001b[32m681.2/681.2 kB\u001b[0m \u001b[31m10.7 MB/s\u001b[0m eta \u001b[36m0:00:00\u001b[0m\n",
            "\u001b[?25h  Preparing metadata (setup.py) ... \u001b[?25l\u001b[?25hdone\n",
            "Requirement already satisfied: PyYAML in /usr/local/lib/python3.10/dist-packages (from pyngrok) (6.0)\n",
            "Building wheels for collected packages: pyngrok\n",
            "  Building wheel for pyngrok (setup.py) ... \u001b[?25l\u001b[?25hdone\n",
            "  Created wheel for pyngrok: filename=pyngrok-6.0.0-py3-none-any.whl size=19879 sha256=29bdbc56132ffb84f515e8e83281646ffa00c4301a14852afb666d978f11cf8c\n",
            "  Stored in directory: /root/.cache/pip/wheels/5c/42/78/0c3d438d7f5730451a25f7ac6cbf4391759d22a67576ed7c2c\n",
            "Successfully built pyngrok\n",
            "Installing collected packages: pyngrok\n",
            "Successfully installed pyngrok-6.0.0\n"
          ]
        }
      ],
      "id": "fNenM027ZU5L"
    },
    {
      "cell_type": "code",
      "source": [
        "!ngrok authtoken 2Ltrxzr7all8wsh0grVdO7aQTIY_4pGibLxJNd6gHN1TCCP24"
      ],
      "metadata": {
        "colab": {
          "base_uri": "https://localhost:8080/"
        },
        "id": "_BVvlrngZXGS",
        "outputId": "a55493dc-1f5b-403f-b88b-20d69536a394"
      },
      "execution_count": null,
      "outputs": [
        {
          "output_type": "stream",
          "name": "stdout",
          "text": [
            "Authtoken saved to configuration file: /root/.ngrok2/ngrok.yml\n"
          ]
        }
      ],
      "id": "_BVvlrngZXGS"
    },
    {
      "cell_type": "code",
      "source": [
        "import numpy as np\n",
        "from flask import Flask, request, jsonify, render_template\n",
        "from flask_ngrok import run_with_ngrok\n",
        "import pickle\n",
        "\n",
        "\n",
        "app = Flask(__name__)\n",
        "\n",
        "\n",
        "run_with_ngrok(app)\n",
        "\n",
        "@app.route('/')\n",
        "def home():\n",
        "  \n",
        "    return render_template(\"index.html\")\n",
        "  \n",
        "@app.route('/predict',methods=['GET'])\n",
        "def predict():\n",
        "    \n",
        "    \n",
        "    '''\n",
        "    For rendering results on HTML GUI\n",
        "    '''\n",
        "    credit = float(request.args.get('credit'))\n",
        "    geography=float(request.args.get('geography'))\n",
        "    gender=float(request.args.get('gender'))\n",
        "    age=float(request.args.get('age'))\n",
        "    tenure=float(request.args.get('tenure'))\n",
        "    balance=float(request.args.get('balance'))\n",
        "    num_p=float(request.args.get('num_p'))\n",
        "    card=float(request.args.get('card'))\n",
        "    model1=float(request.args.get('model1'))\n",
        "    active=float(request.args.get('active'))\n",
        "    salary=float(request.args.get('salary'))\n",
        "\n",
        "    if model1==0:\n",
        "      model=pickle.load(open('/content/drive/My Drive/project7_decision_model.pkl','rb'))\n",
        "    elif model1==1:\n",
        "      model=pickle.load(open('/content/drive/My Drive/project7_svm.pkl','rb'))\n",
        "    elif model1==2:\n",
        "      model=pickle.load(open('/content/drive/My Drive/project7_random_forest.pkl','rb'))\n",
        "    elif model1==3:\n",
        "      model=pickle.load(open('/content/drive/My Drive/project7_knn.pkl','rb'))\n",
        "    elif model1==4:\n",
        "      model=pickle.load(open('/content/drive/My Drive/project7_naive.pkl','rb'))\n",
        "      \n",
        "\n",
        "    dataset= pd.read_csv('/content/drive/My Drive/Churn_Modelling.csv')\n",
        "    X = dataset.iloc[:, 3:13].values\n",
        "    from sklearn.preprocessing import LabelEncoder\n",
        "    labelencoder_X = LabelEncoder()\n",
        "    X[:, 1] = labelencoder_X.fit_transform(X[:, 1])\n",
        "    X[:, 2] = labelencoder_X.fit_transform(X[:, 2])\n",
        "\n",
        "    from sklearn.preprocessing import StandardScaler\n",
        "    sc = StandardScaler()\n",
        "    X = sc.fit_transform(X)\n",
        "    prediction = model.predict(sc.transform([[credit,geography,gender,age,tenure,balance,num_p,card,active,salary]]))\n",
        "    if prediction==0:\n",
        "      message=\"Not Exited\"\n",
        "    else:\n",
        "      message=\"Exited\"\n",
        "    \n",
        "        \n",
        "    return render_template('index.html', prediction_text='Model  has predicted : {}'.format(message))\n",
        "\n",
        "\n",
        "app.run()"
      ],
      "metadata": {
        "colab": {
          "base_uri": "https://localhost:8080/"
        },
        "id": "VN4PMPdaZZGM",
        "outputId": "e661c72f-57e1-489f-923c-29f4dc229c51"
      },
      "execution_count": null,
      "outputs": [
        {
          "output_type": "stream",
          "name": "stdout",
          "text": [
            " * Serving Flask app '__main__'\n",
            " * Debug mode: off\n"
          ]
        },
        {
          "output_type": "stream",
          "name": "stderr",
          "text": [
            "INFO:werkzeug:\u001b[31m\u001b[1mWARNING: This is a development server. Do not use it in a production deployment. Use a production WSGI server instead.\u001b[0m\n",
            " * Running on http://127.0.0.1:5000\n",
            "INFO:werkzeug:\u001b[33mPress CTRL+C to quit\u001b[0m\n"
          ]
        },
        {
          "output_type": "stream",
          "name": "stdout",
          "text": [
            " * Running on http://d3ac-34-80-116-207.ngrok-free.app\n",
            " * Traffic stats available on http://127.0.0.1:4040\n"
          ]
        },
        {
          "output_type": "stream",
          "name": "stderr",
          "text": [
            "INFO:werkzeug:127.0.0.1 - - [05/May/2023 06:26:03] \"GET / HTTP/1.1\" 200 -\n",
            "INFO:werkzeug:127.0.0.1 - - [05/May/2023 06:26:04] \"\u001b[33mGET /favicon.ico HTTP/1.1\u001b[0m\" 404 -\n",
            "INFO:werkzeug:127.0.0.1 - - [05/May/2023 06:26:19] \"GET /predict?credit=23&geography=1&age=23&tenure=4&balance=3456&num_p=2&salary=345&card=1&active=1&gender=1&model1=2 HTTP/1.1\" 200 -\n"
          ]
        }
      ],
      "id": "VN4PMPdaZZGM"
    },
    {
      "cell_type": "markdown",
      "source": [
        "http://churnmodeling.pythonanywhere.com/"
      ],
      "metadata": {
        "id": "hCSsVpTDmJoD"
      },
      "id": "hCSsVpTDmJoD"
    },
    {
      "cell_type": "markdown",
      "id": "03cf1a39-7f89-4cda-a904-8e014680e096",
      "metadata": {
        "id": "03cf1a39-7f89-4cda-a904-8e014680e096"
      },
      "source": [
        "* Null values are not present in our dataset"
      ]
    },
    {
      "cell_type": "code",
      "execution_count": null,
      "id": "2d107abc-02e5-44cf-8442-1932a4169894",
      "metadata": {
        "id": "2d107abc-02e5-44cf-8442-1932a4169894"
      },
      "outputs": [],
      "source": [
        "#Handling Categorical Variables\n",
        "df=pd.get_dummies(df,drop_first=True)"
      ]
    },
    {
      "cell_type": "code",
      "execution_count": null,
      "id": "a6eb0ca3-65ba-44c7-9cf4-6b9c9fe8b133",
      "metadata": {
        "id": "a6eb0ca3-65ba-44c7-9cf4-6b9c9fe8b133"
      },
      "outputs": [],
      "source": [
        "#Dividing the Data into X and y\n",
        "X=df.drop('Exited',axis=1)\n",
        "y=df['Exited']"
      ]
    },
    {
      "cell_type": "code",
      "execution_count": null,
      "id": "53da5a6d-db01-4a3d-8f06-a4847bdcf873",
      "metadata": {
        "colab": {
          "base_uri": "https://localhost:8080/"
        },
        "id": "53da5a6d-db01-4a3d-8f06-a4847bdcf873",
        "outputId": "67d9171b-a6a5-45ac-c1ba-72571429a14d"
      },
      "outputs": [
        {
          "output_type": "execute_result",
          "data": {
            "text/plain": [
              "(10000, 11)"
            ]
          },
          "metadata": {},
          "execution_count": 22
        }
      ],
      "source": [
        "X.shape"
      ]
    },
    {
      "cell_type": "code",
      "execution_count": null,
      "id": "bce4ecb8-88fc-4e2b-93f3-8ee3111f2fad",
      "metadata": {
        "colab": {
          "base_uri": "https://localhost:8080/"
        },
        "id": "bce4ecb8-88fc-4e2b-93f3-8ee3111f2fad",
        "outputId": "eb7f2fe8-d2fc-4bb3-a3ed-903052bd4980"
      },
      "outputs": [
        {
          "output_type": "execute_result",
          "data": {
            "text/plain": [
              "(10000,)"
            ]
          },
          "metadata": {},
          "execution_count": 23
        }
      ],
      "source": [
        "y.shape"
      ]
    },
    {
      "cell_type": "code",
      "execution_count": null,
      "id": "b73f8f89-0e17-49cd-ba4c-875f9930eb1d",
      "metadata": {
        "colab": {
          "base_uri": "https://localhost:8080/",
          "height": 270
        },
        "id": "b73f8f89-0e17-49cd-ba4c-875f9930eb1d",
        "outputId": "8a0ba80c-9850-4160-9fe9-31b40e394a0c"
      },
      "outputs": [
        {
          "output_type": "execute_result",
          "data": {
            "text/plain": [
              "   CreditScore  Age  Tenure    Balance  NumOfProducts  HasCrCard  \\\n",
              "0          619   42       2       0.00              1          1   \n",
              "1          608   41       1   83807.86              1          0   \n",
              "2          502   42       8  159660.80              3          1   \n",
              "3          699   39       1       0.00              2          0   \n",
              "4          850   43       2  125510.82              1          1   \n",
              "\n",
              "   IsActiveMember  EstimatedSalary  Geography_Germany  Geography_Spain  \\\n",
              "0               1        101348.88                  0                0   \n",
              "1               1        112542.58                  0                1   \n",
              "2               0        113931.57                  0                0   \n",
              "3               0         93826.63                  0                0   \n",
              "4               1         79084.10                  0                1   \n",
              "\n",
              "   Gender_Male  \n",
              "0            0  \n",
              "1            0  \n",
              "2            0  \n",
              "3            0  \n",
              "4            0  "
            ],
            "text/html": [
              "\n",
              "  <div id=\"df-48abbb72-9e77-4ac8-a9db-c62e7f4d6664\">\n",
              "    <div class=\"colab-df-container\">\n",
              "      <div>\n",
              "<style scoped>\n",
              "    .dataframe tbody tr th:only-of-type {\n",
              "        vertical-align: middle;\n",
              "    }\n",
              "\n",
              "    .dataframe tbody tr th {\n",
              "        vertical-align: top;\n",
              "    }\n",
              "\n",
              "    .dataframe thead th {\n",
              "        text-align: right;\n",
              "    }\n",
              "</style>\n",
              "<table border=\"1\" class=\"dataframe\">\n",
              "  <thead>\n",
              "    <tr style=\"text-align: right;\">\n",
              "      <th></th>\n",
              "      <th>CreditScore</th>\n",
              "      <th>Age</th>\n",
              "      <th>Tenure</th>\n",
              "      <th>Balance</th>\n",
              "      <th>NumOfProducts</th>\n",
              "      <th>HasCrCard</th>\n",
              "      <th>IsActiveMember</th>\n",
              "      <th>EstimatedSalary</th>\n",
              "      <th>Geography_Germany</th>\n",
              "      <th>Geography_Spain</th>\n",
              "      <th>Gender_Male</th>\n",
              "    </tr>\n",
              "  </thead>\n",
              "  <tbody>\n",
              "    <tr>\n",
              "      <th>0</th>\n",
              "      <td>619</td>\n",
              "      <td>42</td>\n",
              "      <td>2</td>\n",
              "      <td>0.00</td>\n",
              "      <td>1</td>\n",
              "      <td>1</td>\n",
              "      <td>1</td>\n",
              "      <td>101348.88</td>\n",
              "      <td>0</td>\n",
              "      <td>0</td>\n",
              "      <td>0</td>\n",
              "    </tr>\n",
              "    <tr>\n",
              "      <th>1</th>\n",
              "      <td>608</td>\n",
              "      <td>41</td>\n",
              "      <td>1</td>\n",
              "      <td>83807.86</td>\n",
              "      <td>1</td>\n",
              "      <td>0</td>\n",
              "      <td>1</td>\n",
              "      <td>112542.58</td>\n",
              "      <td>0</td>\n",
              "      <td>1</td>\n",
              "      <td>0</td>\n",
              "    </tr>\n",
              "    <tr>\n",
              "      <th>2</th>\n",
              "      <td>502</td>\n",
              "      <td>42</td>\n",
              "      <td>8</td>\n",
              "      <td>159660.80</td>\n",
              "      <td>3</td>\n",
              "      <td>1</td>\n",
              "      <td>0</td>\n",
              "      <td>113931.57</td>\n",
              "      <td>0</td>\n",
              "      <td>0</td>\n",
              "      <td>0</td>\n",
              "    </tr>\n",
              "    <tr>\n",
              "      <th>3</th>\n",
              "      <td>699</td>\n",
              "      <td>39</td>\n",
              "      <td>1</td>\n",
              "      <td>0.00</td>\n",
              "      <td>2</td>\n",
              "      <td>0</td>\n",
              "      <td>0</td>\n",
              "      <td>93826.63</td>\n",
              "      <td>0</td>\n",
              "      <td>0</td>\n",
              "      <td>0</td>\n",
              "    </tr>\n",
              "    <tr>\n",
              "      <th>4</th>\n",
              "      <td>850</td>\n",
              "      <td>43</td>\n",
              "      <td>2</td>\n",
              "      <td>125510.82</td>\n",
              "      <td>1</td>\n",
              "      <td>1</td>\n",
              "      <td>1</td>\n",
              "      <td>79084.10</td>\n",
              "      <td>0</td>\n",
              "      <td>1</td>\n",
              "      <td>0</td>\n",
              "    </tr>\n",
              "  </tbody>\n",
              "</table>\n",
              "</div>\n",
              "      <button class=\"colab-df-convert\" onclick=\"convertToInteractive('df-48abbb72-9e77-4ac8-a9db-c62e7f4d6664')\"\n",
              "              title=\"Convert this dataframe to an interactive table.\"\n",
              "              style=\"display:none;\">\n",
              "        \n",
              "  <svg xmlns=\"http://www.w3.org/2000/svg\" height=\"24px\"viewBox=\"0 0 24 24\"\n",
              "       width=\"24px\">\n",
              "    <path d=\"M0 0h24v24H0V0z\" fill=\"none\"/>\n",
              "    <path d=\"M18.56 5.44l.94 2.06.94-2.06 2.06-.94-2.06-.94-.94-2.06-.94 2.06-2.06.94zm-11 1L8.5 8.5l.94-2.06 2.06-.94-2.06-.94L8.5 2.5l-.94 2.06-2.06.94zm10 10l.94 2.06.94-2.06 2.06-.94-2.06-.94-.94-2.06-.94 2.06-2.06.94z\"/><path d=\"M17.41 7.96l-1.37-1.37c-.4-.4-.92-.59-1.43-.59-.52 0-1.04.2-1.43.59L10.3 9.45l-7.72 7.72c-.78.78-.78 2.05 0 2.83L4 21.41c.39.39.9.59 1.41.59.51 0 1.02-.2 1.41-.59l7.78-7.78 2.81-2.81c.8-.78.8-2.07 0-2.86zM5.41 20L4 18.59l7.72-7.72 1.47 1.35L5.41 20z\"/>\n",
              "  </svg>\n",
              "      </button>\n",
              "      \n",
              "  <style>\n",
              "    .colab-df-container {\n",
              "      display:flex;\n",
              "      flex-wrap:wrap;\n",
              "      gap: 12px;\n",
              "    }\n",
              "\n",
              "    .colab-df-convert {\n",
              "      background-color: #E8F0FE;\n",
              "      border: none;\n",
              "      border-radius: 50%;\n",
              "      cursor: pointer;\n",
              "      display: none;\n",
              "      fill: #1967D2;\n",
              "      height: 32px;\n",
              "      padding: 0 0 0 0;\n",
              "      width: 32px;\n",
              "    }\n",
              "\n",
              "    .colab-df-convert:hover {\n",
              "      background-color: #E2EBFA;\n",
              "      box-shadow: 0px 1px 2px rgba(60, 64, 67, 0.3), 0px 1px 3px 1px rgba(60, 64, 67, 0.15);\n",
              "      fill: #174EA6;\n",
              "    }\n",
              "\n",
              "    [theme=dark] .colab-df-convert {\n",
              "      background-color: #3B4455;\n",
              "      fill: #D2E3FC;\n",
              "    }\n",
              "\n",
              "    [theme=dark] .colab-df-convert:hover {\n",
              "      background-color: #434B5C;\n",
              "      box-shadow: 0px 1px 3px 1px rgba(0, 0, 0, 0.15);\n",
              "      filter: drop-shadow(0px 1px 2px rgba(0, 0, 0, 0.3));\n",
              "      fill: #FFFFFF;\n",
              "    }\n",
              "  </style>\n",
              "\n",
              "      <script>\n",
              "        const buttonEl =\n",
              "          document.querySelector('#df-48abbb72-9e77-4ac8-a9db-c62e7f4d6664 button.colab-df-convert');\n",
              "        buttonEl.style.display =\n",
              "          google.colab.kernel.accessAllowed ? 'block' : 'none';\n",
              "\n",
              "        async function convertToInteractive(key) {\n",
              "          const element = document.querySelector('#df-48abbb72-9e77-4ac8-a9db-c62e7f4d6664');\n",
              "          const dataTable =\n",
              "            await google.colab.kernel.invokeFunction('convertToInteractive',\n",
              "                                                     [key], {});\n",
              "          if (!dataTable) return;\n",
              "\n",
              "          const docLinkHtml = 'Like what you see? Visit the ' +\n",
              "            '<a target=\"_blank\" href=https://colab.research.google.com/notebooks/data_table.ipynb>data table notebook</a>'\n",
              "            + ' to learn more about interactive tables.';\n",
              "          element.innerHTML = '';\n",
              "          dataTable['output_type'] = 'display_data';\n",
              "          await google.colab.output.renderOutput(dataTable, element);\n",
              "          const docLink = document.createElement('div');\n",
              "          docLink.innerHTML = docLinkHtml;\n",
              "          element.appendChild(docLink);\n",
              "        }\n",
              "      </script>\n",
              "    </div>\n",
              "  </div>\n",
              "  "
            ]
          },
          "metadata": {},
          "execution_count": 24
        }
      ],
      "source": [
        "X.head()"
      ]
    },
    {
      "cell_type": "code",
      "execution_count": null,
      "id": "1ab150a4-e779-4bd8-b8bd-e36eb7ec78ad",
      "metadata": {
        "id": "1ab150a4-e779-4bd8-b8bd-e36eb7ec78ad"
      },
      "outputs": [],
      "source": [
        "#Train test split\n",
        "from sklearn.model_selection import train_test_split\n",
        "X_train,X_test,y_train,y_test=train_test_split(X,y,test_size=0.2,random_state=42)"
      ]
    },
    {
      "cell_type": "code",
      "execution_count": null,
      "id": "0b38f8d5-23f4-4376-8ba2-1ec5244a12ee",
      "metadata": {
        "colab": {
          "base_uri": "https://localhost:8080/"
        },
        "id": "0b38f8d5-23f4-4376-8ba2-1ec5244a12ee",
        "outputId": "90ca872b-0a05-41dd-fce7-7d9636103da7"
      },
      "outputs": [
        {
          "output_type": "execute_result",
          "data": {
            "text/plain": [
              "(8000, 11)"
            ]
          },
          "metadata": {},
          "execution_count": 26
        }
      ],
      "source": [
        "X_train.shape"
      ]
    },
    {
      "cell_type": "code",
      "execution_count": null,
      "id": "eddb97b0-daa5-499b-a400-6d899fc3b7cb",
      "metadata": {
        "colab": {
          "base_uri": "https://localhost:8080/"
        },
        "id": "eddb97b0-daa5-499b-a400-6d899fc3b7cb",
        "outputId": "94d363ce-8830-45c8-b4ff-67513c11f498"
      },
      "outputs": [
        {
          "output_type": "execute_result",
          "data": {
            "text/plain": [
              "pandas.core.frame.DataFrame"
            ]
          },
          "metadata": {},
          "execution_count": 27
        }
      ],
      "source": [
        "type(X_train)"
      ]
    },
    {
      "cell_type": "code",
      "execution_count": null,
      "id": "9f91f484-cf05-4b02-ad66-96f7008d67fb",
      "metadata": {
        "colab": {
          "base_uri": "https://localhost:8080/"
        },
        "id": "9f91f484-cf05-4b02-ad66-96f7008d67fb",
        "outputId": "a2bdc774-5c50-4bf4-a93e-5f8d61e5426e"
      },
      "outputs": [
        {
          "output_type": "execute_result",
          "data": {
            "text/plain": [
              "(2000, 11)"
            ]
          },
          "metadata": {},
          "execution_count": 28
        }
      ],
      "source": [
        "X_test.shape"
      ]
    },
    {
      "cell_type": "code",
      "execution_count": null,
      "id": "3bb8e578-930b-4512-9e53-bcb92710fb77",
      "metadata": {
        "colab": {
          "base_uri": "https://localhost:8080/"
        },
        "id": "3bb8e578-930b-4512-9e53-bcb92710fb77",
        "outputId": "a7a91c51-149f-47b4-acf6-0d6ee66ebb29"
      },
      "outputs": [
        {
          "output_type": "execute_result",
          "data": {
            "text/plain": [
              "(8000,)"
            ]
          },
          "metadata": {},
          "execution_count": 29
        }
      ],
      "source": [
        "y_train.shape"
      ]
    },
    {
      "cell_type": "code",
      "execution_count": null,
      "id": "73309589-3a08-492b-8f4a-0d8576c4e4fc",
      "metadata": {
        "colab": {
          "base_uri": "https://localhost:8080/"
        },
        "id": "73309589-3a08-492b-8f4a-0d8576c4e4fc",
        "outputId": "250c3bc6-5351-43e3-9a2a-750a152211bf"
      },
      "outputs": [
        {
          "output_type": "execute_result",
          "data": {
            "text/plain": [
              "pandas.core.series.Series"
            ]
          },
          "metadata": {},
          "execution_count": 30
        }
      ],
      "source": [
        "type(y_train)"
      ]
    },
    {
      "cell_type": "code",
      "execution_count": null,
      "id": "8d97782c-5466-4e61-bbc3-ecaaca0419cc",
      "metadata": {
        "colab": {
          "base_uri": "https://localhost:8080/"
        },
        "id": "8d97782c-5466-4e61-bbc3-ecaaca0419cc",
        "outputId": "5c75acbf-681f-4bc6-a707-1e1771c4409d"
      },
      "outputs": [
        {
          "output_type": "execute_result",
          "data": {
            "text/plain": [
              "1"
            ]
          },
          "metadata": {},
          "execution_count": 31
        }
      ],
      "source": [
        "y_train[2]"
      ]
    },
    {
      "cell_type": "code",
      "execution_count": null,
      "id": "b92612d8-af7d-4d43-91ce-998680d8e2d9",
      "metadata": {
        "id": "b92612d8-af7d-4d43-91ce-998680d8e2d9"
      },
      "outputs": [],
      "source": [
        "#Feature Scalling\n",
        "from sklearn.preprocessing import StandardScaler\n",
        "sc=StandardScaler()\n",
        "X_train = sc.fit_transform(X_train)\n",
        "X_test=sc.transform(X_test)"
      ]
    },
    {
      "cell_type": "code",
      "execution_count": null,
      "id": "b0ce116e-0853-47d2-bc46-73af04ad5ddf",
      "metadata": {
        "colab": {
          "base_uri": "https://localhost:8080/"
        },
        "id": "b0ce116e-0853-47d2-bc46-73af04ad5ddf",
        "outputId": "ca0ec1c0-fec3-4c24-add7-20f596e3c982"
      },
      "outputs": [
        {
          "output_type": "execute_result",
          "data": {
            "text/plain": [
              "array([[ 0.35649971, -0.6557859 ,  0.34567966, ..., -0.57946723,\n",
              "        -0.57638802,  0.91324755],\n",
              "       [-0.20389777,  0.29493847, -0.3483691 , ...,  1.72572313,\n",
              "        -0.57638802,  0.91324755],\n",
              "       [-0.96147213, -1.41636539, -0.69539349, ..., -0.57946723,\n",
              "         1.73494238,  0.91324755],\n",
              "       ...,\n",
              "       [ 0.86500853, -0.08535128, -1.38944225, ..., -0.57946723,\n",
              "        -0.57638802, -1.09499335],\n",
              "       [ 0.15932282,  0.3900109 ,  1.03972843, ..., -0.57946723,\n",
              "        -0.57638802,  0.91324755],\n",
              "       [ 0.47065475,  1.15059039, -1.38944225, ...,  1.72572313,\n",
              "        -0.57638802,  0.91324755]])"
            ]
          },
          "metadata": {},
          "execution_count": 33
        }
      ],
      "source": [
        "X_train"
      ]
    },
    {
      "cell_type": "code",
      "execution_count": null,
      "id": "3358f4db-30a7-4795-916c-f5bdfb2c8caa",
      "metadata": {
        "colab": {
          "base_uri": "https://localhost:8080/"
        },
        "id": "3358f4db-30a7-4795-916c-f5bdfb2c8caa",
        "outputId": "26dc593c-7832-4239-9f09-2553c7a64f38"
      },
      "outputs": [
        {
          "output_type": "stream",
          "name": "stdout",
          "text": [
            "(8000, 11)\n",
            "(8000,)\n"
          ]
        }
      ],
      "source": [
        "print(X_train.shape)\n",
        "print(y_train.shape)"
      ]
    },
    {
      "cell_type": "markdown",
      "id": "049ad956-7096-4aa8-bf82-8309d5019127",
      "metadata": {
        "id": "049ad956-7096-4aa8-bf82-8309d5019127"
      },
      "source": [
        "## Create Artificial Neural Network"
      ]
    },
    {
      "cell_type": "markdown",
      "id": "28d40441-0a87-485a-8288-7634fd45cf29",
      "metadata": {
        "id": "28d40441-0a87-485a-8288-7634fd45cf29"
      },
      "source": [
        "* Sequential usually refers to an entire model, not just one layer. \n",
        "* Sequential refers to the way you build models in Keras using the sequential api from keras.\n",
        "* To install keras run the command pip install keras."
      ]
    },
    {
      "cell_type": "code",
      "execution_count": null,
      "id": "be3d27b7-768e-4e70-b400-d062d342140a",
      "metadata": {
        "id": "be3d27b7-768e-4e70-b400-d062d342140a"
      },
      "outputs": [],
      "source": [
        "#Importiing libraries\n",
        "import keras\n",
        "from tensorflow.keras.models import Sequential\n",
        "from tensorflow.keras.layers import Dense"
      ]
    },
    {
      "cell_type": "code",
      "execution_count": null,
      "id": "4bae3e95-3626-451c-95bb-f64cce780a6e",
      "metadata": {
        "colab": {
          "base_uri": "https://localhost:8080/",
          "height": 35
        },
        "id": "4bae3e95-3626-451c-95bb-f64cce780a6e",
        "outputId": "7585caa8-3f52-409d-a1d2-d226d212df79"
      },
      "outputs": [
        {
          "output_type": "execute_result",
          "data": {
            "text/plain": [
              "'2.12.0'"
            ],
            "application/vnd.google.colaboratory.intrinsic+json": {
              "type": "string"
            }
          },
          "metadata": {},
          "execution_count": 37
        }
      ],
      "source": [
        "keras.__version__"
      ]
    },
    {
      "cell_type": "code",
      "execution_count": null,
      "id": "c979b812-d266-4823-88a1-92f8eaace1fd",
      "metadata": {
        "colab": {
          "base_uri": "https://localhost:8080/",
          "height": 35
        },
        "id": "c979b812-d266-4823-88a1-92f8eaace1fd",
        "outputId": "7e32470c-7e05-4f6b-f04f-892e56fe6505"
      },
      "outputs": [
        {
          "output_type": "execute_result",
          "data": {
            "text/plain": [
              "'2.12.0'"
            ],
            "application/vnd.google.colaboratory.intrinsic+json": {
              "type": "string"
            }
          },
          "metadata": {},
          "execution_count": 38
        }
      ],
      "source": [
        "import tensorflow as tf\n",
        "tf.__version__"
      ]
    },
    {
      "cell_type": "code",
      "execution_count": null,
      "id": "5ca71a95-7c2d-4f89-9f49-d85aeefd1273",
      "metadata": {
        "id": "5ca71a95-7c2d-4f89-9f49-d85aeefd1273"
      },
      "outputs": [],
      "source": [
        "#Initializing the ANN\n",
        "ann_clf=Sequential()"
      ]
    },
    {
      "cell_type": "code",
      "execution_count": null,
      "id": "f654e276-7006-475b-ba07-5ac53574a279",
      "metadata": {
        "id": "f654e276-7006-475b-ba07-5ac53574a279"
      },
      "outputs": [],
      "source": [
        "#adding the input layer and first hidden layer\n",
        "ann_clf.add(Dense(activation='relu',input_dim=11,units=6,kernel_initializer='uniform'))"
      ]
    },
    {
      "cell_type": "code",
      "execution_count": null,
      "id": "d26619f3-dd8f-41ca-a9c8-f65e65ecffb3",
      "metadata": {
        "id": "d26619f3-dd8f-41ca-a9c8-f65e65ecffb3"
      },
      "outputs": [],
      "source": [
        "##Adding the second hidden layer\n",
        "ann_clf.add(Dense(activation='relu',units=6,kernel_initializer='uniform'))"
      ]
    },
    {
      "cell_type": "code",
      "execution_count": null,
      "id": "1cded436-1868-4712-bd9d-f0793215ae4c",
      "metadata": {
        "id": "1cded436-1868-4712-bd9d-f0793215ae4c"
      },
      "outputs": [],
      "source": [
        "#adding the outputlayer\n",
        "ann_clf.add(Dense(activation='sigmoid',units=1,kernel_initializer='uniform'))"
      ]
    },
    {
      "cell_type": "code",
      "execution_count": null,
      "id": "d92ab392-db64-4bb4-8633-7a811727014d",
      "metadata": {
        "id": "d92ab392-db64-4bb4-8633-7a811727014d"
      },
      "outputs": [],
      "source": [
        "#compiling the ann\n",
        "ann_clf.compile(optimizer='adam',loss='binary_crossentropy',metrics=['accuracy'])"
      ]
    },
    {
      "cell_type": "markdown",
      "id": "e7454f69-651e-4ade-93de-f93a0d3708f0",
      "metadata": {
        "id": "e7454f69-651e-4ade-93de-f93a0d3708f0"
      },
      "source": [
        "## Model Summery"
      ]
    },
    {
      "cell_type": "code",
      "execution_count": null,
      "id": "3757d855-7e6d-4437-a630-02b1b069804a",
      "metadata": {
        "colab": {
          "base_uri": "https://localhost:8080/"
        },
        "id": "3757d855-7e6d-4437-a630-02b1b069804a",
        "outputId": "20c6c1fd-e952-45de-984e-fd57f118cf57"
      },
      "outputs": [
        {
          "output_type": "stream",
          "name": "stdout",
          "text": [
            "Model: \"sequential\"\n",
            "_________________________________________________________________\n",
            " Layer (type)                Output Shape              Param #   \n",
            "=================================================================\n",
            " dense (Dense)               (None, 6)                 72        \n",
            "                                                                 \n",
            " dense_1 (Dense)             (None, 6)                 42        \n",
            "                                                                 \n",
            " dense_2 (Dense)             (None, 1)                 7         \n",
            "                                                                 \n",
            "=================================================================\n",
            "Total params: 121\n",
            "Trainable params: 121\n",
            "Non-trainable params: 0\n",
            "_________________________________________________________________\n"
          ]
        }
      ],
      "source": [
        "ann_clf.summary()"
      ]
    },
    {
      "cell_type": "markdown",
      "id": "da69e4c0-e37b-46fe-9759-cf57cb18d604",
      "metadata": {
        "id": "da69e4c0-e37b-46fe-9759-cf57cb18d604"
      },
      "source": [
        "## Model Training"
      ]
    },
    {
      "cell_type": "code",
      "execution_count": null,
      "id": "ee1fb80a-347a-4009-95ba-68d33746da6c",
      "metadata": {
        "scrolled": true,
        "tags": [],
        "colab": {
          "base_uri": "https://localhost:8080/"
        },
        "id": "ee1fb80a-347a-4009-95ba-68d33746da6c",
        "outputId": "f1e9ccf0-127c-4746-cd9c-4d2b030a02a0"
      },
      "outputs": [
        {
          "output_type": "stream",
          "name": "stdout",
          "text": [
            "Epoch 1/100\n",
            "168/168 [==============================] - 2s 3ms/step - loss: 0.6333 - accuracy: 0.7921 - val_loss: 0.5116 - val_accuracy: 0.7910\n",
            "Epoch 2/100\n",
            "168/168 [==============================] - 0s 2ms/step - loss: 0.4539 - accuracy: 0.7962 - val_loss: 0.4447 - val_accuracy: 0.7910\n",
            "Epoch 3/100\n",
            "168/168 [==============================] - 0s 2ms/step - loss: 0.4338 - accuracy: 0.7962 - val_loss: 0.4405 - val_accuracy: 0.7910\n",
            "Epoch 4/100\n",
            "168/168 [==============================] - 0s 2ms/step - loss: 0.4290 - accuracy: 0.7962 - val_loss: 0.4385 - val_accuracy: 0.7910\n",
            "Epoch 5/100\n",
            "168/168 [==============================] - 0s 2ms/step - loss: 0.4256 - accuracy: 0.7962 - val_loss: 0.4363 - val_accuracy: 0.7910\n",
            "Epoch 6/100\n",
            "168/168 [==============================] - 0s 2ms/step - loss: 0.4224 - accuracy: 0.7962 - val_loss: 0.4321 - val_accuracy: 0.7910\n",
            "Epoch 7/100\n",
            "168/168 [==============================] - 0s 2ms/step - loss: 0.4191 - accuracy: 0.8057 - val_loss: 0.4295 - val_accuracy: 0.8201\n",
            "Epoch 8/100\n",
            "168/168 [==============================] - 0s 2ms/step - loss: 0.4161 - accuracy: 0.8244 - val_loss: 0.4273 - val_accuracy: 0.8266\n",
            "Epoch 9/100\n",
            "168/168 [==============================] - 0s 2ms/step - loss: 0.4134 - accuracy: 0.8293 - val_loss: 0.4254 - val_accuracy: 0.8296\n",
            "Epoch 10/100\n",
            "168/168 [==============================] - 0s 2ms/step - loss: 0.4108 - accuracy: 0.8354 - val_loss: 0.4228 - val_accuracy: 0.8345\n",
            "Epoch 11/100\n",
            "168/168 [==============================] - 0s 2ms/step - loss: 0.4088 - accuracy: 0.8356 - val_loss: 0.4221 - val_accuracy: 0.8330\n",
            "Epoch 12/100\n",
            "168/168 [==============================] - 0s 2ms/step - loss: 0.4068 - accuracy: 0.8375 - val_loss: 0.4204 - val_accuracy: 0.8345\n",
            "Epoch 13/100\n",
            "168/168 [==============================] - 0s 2ms/step - loss: 0.4053 - accuracy: 0.8354 - val_loss: 0.4197 - val_accuracy: 0.8319\n",
            "Epoch 14/100\n",
            "168/168 [==============================] - 0s 2ms/step - loss: 0.4041 - accuracy: 0.8375 - val_loss: 0.4182 - val_accuracy: 0.8304\n",
            "Epoch 15/100\n",
            "168/168 [==============================] - 0s 2ms/step - loss: 0.4029 - accuracy: 0.8364 - val_loss: 0.4165 - val_accuracy: 0.8334\n",
            "Epoch 16/100\n",
            "168/168 [==============================] - 0s 2ms/step - loss: 0.4018 - accuracy: 0.8369 - val_loss: 0.4156 - val_accuracy: 0.8330\n",
            "Epoch 17/100\n",
            "168/168 [==============================] - 0s 2ms/step - loss: 0.4010 - accuracy: 0.8377 - val_loss: 0.4156 - val_accuracy: 0.8345\n",
            "Epoch 18/100\n",
            "168/168 [==============================] - 0s 2ms/step - loss: 0.3997 - accuracy: 0.8378 - val_loss: 0.4145 - val_accuracy: 0.8307\n",
            "Epoch 19/100\n",
            "168/168 [==============================] - 0s 2ms/step - loss: 0.3991 - accuracy: 0.8397 - val_loss: 0.4143 - val_accuracy: 0.8307\n",
            "Epoch 20/100\n",
            "168/168 [==============================] - 0s 2ms/step - loss: 0.3983 - accuracy: 0.8382 - val_loss: 0.4138 - val_accuracy: 0.8315\n",
            "Epoch 21/100\n",
            "168/168 [==============================] - 0s 2ms/step - loss: 0.3977 - accuracy: 0.8391 - val_loss: 0.4128 - val_accuracy: 0.8319\n",
            "Epoch 22/100\n",
            "168/168 [==============================] - 0s 2ms/step - loss: 0.3971 - accuracy: 0.8393 - val_loss: 0.4123 - val_accuracy: 0.8326\n",
            "Epoch 23/100\n",
            "168/168 [==============================] - 0s 2ms/step - loss: 0.3965 - accuracy: 0.8397 - val_loss: 0.4123 - val_accuracy: 0.8323\n",
            "Epoch 24/100\n",
            "168/168 [==============================] - 0s 3ms/step - loss: 0.3960 - accuracy: 0.8405 - val_loss: 0.4114 - val_accuracy: 0.8323\n",
            "Epoch 25/100\n",
            "168/168 [==============================] - 0s 2ms/step - loss: 0.3954 - accuracy: 0.8414 - val_loss: 0.4110 - val_accuracy: 0.8326\n",
            "Epoch 26/100\n",
            "168/168 [==============================] - 0s 2ms/step - loss: 0.3951 - accuracy: 0.8403 - val_loss: 0.4111 - val_accuracy: 0.8326\n",
            "Epoch 27/100\n",
            "168/168 [==============================] - 0s 3ms/step - loss: 0.3944 - accuracy: 0.8388 - val_loss: 0.4106 - val_accuracy: 0.8334\n",
            "Epoch 28/100\n",
            "168/168 [==============================] - 0s 2ms/step - loss: 0.3946 - accuracy: 0.8421 - val_loss: 0.4111 - val_accuracy: 0.8311\n",
            "Epoch 29/100\n",
            "168/168 [==============================] - 0s 2ms/step - loss: 0.3937 - accuracy: 0.8414 - val_loss: 0.4106 - val_accuracy: 0.8307\n",
            "Epoch 30/100\n",
            "168/168 [==============================] - 0s 2ms/step - loss: 0.3935 - accuracy: 0.8416 - val_loss: 0.4112 - val_accuracy: 0.8304\n",
            "Epoch 31/100\n",
            "168/168 [==============================] - 0s 2ms/step - loss: 0.3931 - accuracy: 0.8416 - val_loss: 0.4113 - val_accuracy: 0.8319\n",
            "Epoch 32/100\n",
            "168/168 [==============================] - 0s 2ms/step - loss: 0.3928 - accuracy: 0.8408 - val_loss: 0.4110 - val_accuracy: 0.8300\n",
            "Epoch 33/100\n",
            "168/168 [==============================] - 0s 2ms/step - loss: 0.3925 - accuracy: 0.8405 - val_loss: 0.4106 - val_accuracy: 0.8307\n",
            "Epoch 34/100\n",
            "168/168 [==============================] - 0s 2ms/step - loss: 0.3919 - accuracy: 0.8421 - val_loss: 0.4113 - val_accuracy: 0.8326\n",
            "Epoch 35/100\n",
            "168/168 [==============================] - 0s 2ms/step - loss: 0.3916 - accuracy: 0.8408 - val_loss: 0.4112 - val_accuracy: 0.8289\n",
            "Epoch 36/100\n",
            "168/168 [==============================] - 0s 2ms/step - loss: 0.3911 - accuracy: 0.8408 - val_loss: 0.4107 - val_accuracy: 0.8323\n",
            "Epoch 37/100\n",
            "168/168 [==============================] - 0s 2ms/step - loss: 0.3912 - accuracy: 0.8403 - val_loss: 0.4105 - val_accuracy: 0.8304\n",
            "Epoch 38/100\n",
            "168/168 [==============================] - 0s 2ms/step - loss: 0.3909 - accuracy: 0.8395 - val_loss: 0.4102 - val_accuracy: 0.8296\n",
            "Epoch 39/100\n",
            "168/168 [==============================] - 0s 2ms/step - loss: 0.3903 - accuracy: 0.8408 - val_loss: 0.4102 - val_accuracy: 0.8285\n",
            "Epoch 40/100\n",
            "168/168 [==============================] - 0s 2ms/step - loss: 0.3905 - accuracy: 0.8416 - val_loss: 0.4101 - val_accuracy: 0.8311\n",
            "Epoch 41/100\n",
            "168/168 [==============================] - 0s 2ms/step - loss: 0.3901 - accuracy: 0.8429 - val_loss: 0.4098 - val_accuracy: 0.8330\n",
            "Epoch 42/100\n",
            "168/168 [==============================] - 0s 2ms/step - loss: 0.3899 - accuracy: 0.8416 - val_loss: 0.4107 - val_accuracy: 0.8307\n",
            "Epoch 43/100\n",
            "168/168 [==============================] - 0s 2ms/step - loss: 0.3897 - accuracy: 0.8419 - val_loss: 0.4109 - val_accuracy: 0.8330\n",
            "Epoch 44/100\n",
            "168/168 [==============================] - 0s 2ms/step - loss: 0.3897 - accuracy: 0.8421 - val_loss: 0.4105 - val_accuracy: 0.8307\n",
            "Epoch 45/100\n",
            "168/168 [==============================] - 0s 2ms/step - loss: 0.3894 - accuracy: 0.8419 - val_loss: 0.4107 - val_accuracy: 0.8289\n",
            "Epoch 46/100\n",
            "168/168 [==============================] - 0s 2ms/step - loss: 0.3893 - accuracy: 0.8418 - val_loss: 0.4095 - val_accuracy: 0.8323\n",
            "Epoch 47/100\n",
            "168/168 [==============================] - 0s 2ms/step - loss: 0.3892 - accuracy: 0.8418 - val_loss: 0.4099 - val_accuracy: 0.8307\n",
            "Epoch 48/100\n",
            "168/168 [==============================] - 0s 2ms/step - loss: 0.3892 - accuracy: 0.8414 - val_loss: 0.4096 - val_accuracy: 0.8315\n",
            "Epoch 49/100\n",
            "168/168 [==============================] - 0s 2ms/step - loss: 0.3891 - accuracy: 0.8405 - val_loss: 0.4103 - val_accuracy: 0.8311\n",
            "Epoch 50/100\n",
            "168/168 [==============================] - 0s 2ms/step - loss: 0.3887 - accuracy: 0.8419 - val_loss: 0.4102 - val_accuracy: 0.8319\n",
            "Epoch 51/100\n",
            "168/168 [==============================] - 0s 2ms/step - loss: 0.3886 - accuracy: 0.8419 - val_loss: 0.4101 - val_accuracy: 0.8323\n",
            "Epoch 52/100\n",
            "168/168 [==============================] - 0s 2ms/step - loss: 0.3887 - accuracy: 0.8425 - val_loss: 0.4104 - val_accuracy: 0.8311\n",
            "Epoch 53/100\n",
            "168/168 [==============================] - 0s 2ms/step - loss: 0.3883 - accuracy: 0.8427 - val_loss: 0.4098 - val_accuracy: 0.8323\n",
            "Epoch 54/100\n",
            "168/168 [==============================] - 0s 2ms/step - loss: 0.3884 - accuracy: 0.8418 - val_loss: 0.4101 - val_accuracy: 0.8307\n",
            "Epoch 55/100\n",
            "168/168 [==============================] - 0s 2ms/step - loss: 0.3886 - accuracy: 0.8406 - val_loss: 0.4108 - val_accuracy: 0.8307\n",
            "Epoch 56/100\n",
            "168/168 [==============================] - 0s 3ms/step - loss: 0.3879 - accuracy: 0.8406 - val_loss: 0.4106 - val_accuracy: 0.8330\n",
            "Epoch 57/100\n",
            "168/168 [==============================] - 0s 3ms/step - loss: 0.3881 - accuracy: 0.8418 - val_loss: 0.4107 - val_accuracy: 0.8323\n",
            "Epoch 58/100\n",
            "168/168 [==============================] - 0s 3ms/step - loss: 0.3878 - accuracy: 0.8425 - val_loss: 0.4105 - val_accuracy: 0.8300\n",
            "Epoch 59/100\n",
            "168/168 [==============================] - 0s 3ms/step - loss: 0.3879 - accuracy: 0.8429 - val_loss: 0.4099 - val_accuracy: 0.8330\n",
            "Epoch 60/100\n",
            "168/168 [==============================] - 0s 2ms/step - loss: 0.3878 - accuracy: 0.8423 - val_loss: 0.4095 - val_accuracy: 0.8342\n",
            "Epoch 61/100\n",
            "168/168 [==============================] - 0s 2ms/step - loss: 0.3876 - accuracy: 0.8403 - val_loss: 0.4105 - val_accuracy: 0.8323\n",
            "Epoch 62/100\n",
            "168/168 [==============================] - 0s 2ms/step - loss: 0.3876 - accuracy: 0.8423 - val_loss: 0.4110 - val_accuracy: 0.8319\n",
            "Epoch 63/100\n",
            "168/168 [==============================] - 0s 2ms/step - loss: 0.3875 - accuracy: 0.8414 - val_loss: 0.4108 - val_accuracy: 0.8307\n",
            "Epoch 64/100\n",
            "168/168 [==============================] - 0s 2ms/step - loss: 0.3872 - accuracy: 0.8419 - val_loss: 0.4113 - val_accuracy: 0.8285\n",
            "Epoch 65/100\n",
            "168/168 [==============================] - 0s 2ms/step - loss: 0.3873 - accuracy: 0.8421 - val_loss: 0.4104 - val_accuracy: 0.8311\n",
            "Epoch 66/100\n",
            "168/168 [==============================] - 0s 2ms/step - loss: 0.3875 - accuracy: 0.8418 - val_loss: 0.4117 - val_accuracy: 0.8315\n",
            "Epoch 67/100\n",
            "168/168 [==============================] - 0s 2ms/step - loss: 0.3872 - accuracy: 0.8423 - val_loss: 0.4107 - val_accuracy: 0.8304\n",
            "Epoch 68/100\n",
            "168/168 [==============================] - 0s 2ms/step - loss: 0.3872 - accuracy: 0.8434 - val_loss: 0.4106 - val_accuracy: 0.8330\n",
            "Epoch 69/100\n",
            "168/168 [==============================] - 0s 2ms/step - loss: 0.3870 - accuracy: 0.8419 - val_loss: 0.4111 - val_accuracy: 0.8307\n",
            "Epoch 70/100\n",
            "168/168 [==============================] - 0s 2ms/step - loss: 0.3872 - accuracy: 0.8425 - val_loss: 0.4111 - val_accuracy: 0.8315\n",
            "Epoch 71/100\n",
            "168/168 [==============================] - 0s 2ms/step - loss: 0.3868 - accuracy: 0.8436 - val_loss: 0.4116 - val_accuracy: 0.8342\n",
            "Epoch 72/100\n",
            "168/168 [==============================] - 0s 2ms/step - loss: 0.3870 - accuracy: 0.8421 - val_loss: 0.4109 - val_accuracy: 0.8319\n",
            "Epoch 73/100\n",
            "168/168 [==============================] - 0s 2ms/step - loss: 0.3870 - accuracy: 0.8418 - val_loss: 0.4114 - val_accuracy: 0.8311\n",
            "Epoch 74/100\n",
            "168/168 [==============================] - 0s 2ms/step - loss: 0.3867 - accuracy: 0.8405 - val_loss: 0.4136 - val_accuracy: 0.8266\n",
            "Epoch 75/100\n",
            "168/168 [==============================] - 0s 2ms/step - loss: 0.3877 - accuracy: 0.8425 - val_loss: 0.4106 - val_accuracy: 0.8319\n",
            "Epoch 76/100\n",
            "168/168 [==============================] - 0s 2ms/step - loss: 0.3867 - accuracy: 0.8431 - val_loss: 0.4117 - val_accuracy: 0.8326\n",
            "Epoch 77/100\n",
            "168/168 [==============================] - 0s 2ms/step - loss: 0.3865 - accuracy: 0.8431 - val_loss: 0.4108 - val_accuracy: 0.8315\n",
            "Epoch 78/100\n",
            "168/168 [==============================] - 0s 2ms/step - loss: 0.3869 - accuracy: 0.8436 - val_loss: 0.4115 - val_accuracy: 0.8323\n",
            "Epoch 79/100\n",
            "168/168 [==============================] - 0s 2ms/step - loss: 0.3866 - accuracy: 0.8431 - val_loss: 0.4104 - val_accuracy: 0.8330\n",
            "Epoch 80/100\n",
            "168/168 [==============================] - 0s 2ms/step - loss: 0.3866 - accuracy: 0.8438 - val_loss: 0.4107 - val_accuracy: 0.8307\n",
            "Epoch 81/100\n",
            "168/168 [==============================] - 0s 2ms/step - loss: 0.3868 - accuracy: 0.8425 - val_loss: 0.4103 - val_accuracy: 0.8334\n",
            "Epoch 82/100\n",
            "168/168 [==============================] - 0s 2ms/step - loss: 0.3869 - accuracy: 0.8438 - val_loss: 0.4111 - val_accuracy: 0.8319\n",
            "Epoch 83/100\n",
            "168/168 [==============================] - 0s 2ms/step - loss: 0.3864 - accuracy: 0.8423 - val_loss: 0.4105 - val_accuracy: 0.8338\n",
            "Epoch 84/100\n",
            "168/168 [==============================] - 0s 2ms/step - loss: 0.3865 - accuracy: 0.8427 - val_loss: 0.4114 - val_accuracy: 0.8285\n",
            "Epoch 85/100\n",
            "168/168 [==============================] - 0s 2ms/step - loss: 0.3864 - accuracy: 0.8438 - val_loss: 0.4119 - val_accuracy: 0.8300\n",
            "Epoch 86/100\n",
            "168/168 [==============================] - 0s 2ms/step - loss: 0.3865 - accuracy: 0.8421 - val_loss: 0.4117 - val_accuracy: 0.8296\n",
            "Epoch 87/100\n",
            "168/168 [==============================] - 0s 2ms/step - loss: 0.3864 - accuracy: 0.8440 - val_loss: 0.4111 - val_accuracy: 0.8334\n",
            "Epoch 88/100\n",
            "168/168 [==============================] - 0s 2ms/step - loss: 0.3864 - accuracy: 0.8451 - val_loss: 0.4122 - val_accuracy: 0.8304\n",
            "Epoch 89/100\n",
            "168/168 [==============================] - 0s 2ms/step - loss: 0.3863 - accuracy: 0.8429 - val_loss: 0.4123 - val_accuracy: 0.8300\n",
            "Epoch 90/100\n",
            "168/168 [==============================] - 0s 3ms/step - loss: 0.3861 - accuracy: 0.8431 - val_loss: 0.4123 - val_accuracy: 0.8326\n",
            "Epoch 91/100\n",
            "168/168 [==============================] - 0s 3ms/step - loss: 0.3864 - accuracy: 0.8438 - val_loss: 0.4125 - val_accuracy: 0.8307\n",
            "Epoch 92/100\n",
            "168/168 [==============================] - 0s 3ms/step - loss: 0.3865 - accuracy: 0.8455 - val_loss: 0.4126 - val_accuracy: 0.8323\n",
            "Epoch 93/100\n",
            "168/168 [==============================] - 0s 3ms/step - loss: 0.3861 - accuracy: 0.8425 - val_loss: 0.4124 - val_accuracy: 0.8319\n",
            "Epoch 94/100\n",
            "168/168 [==============================] - 0s 2ms/step - loss: 0.3864 - accuracy: 0.8427 - val_loss: 0.4124 - val_accuracy: 0.8300\n",
            "Epoch 95/100\n",
            "168/168 [==============================] - 0s 2ms/step - loss: 0.3860 - accuracy: 0.8446 - val_loss: 0.4120 - val_accuracy: 0.8334\n",
            "Epoch 96/100\n",
            "168/168 [==============================] - 0s 2ms/step - loss: 0.3859 - accuracy: 0.8447 - val_loss: 0.4115 - val_accuracy: 0.8342\n",
            "Epoch 97/100\n",
            "168/168 [==============================] - 0s 2ms/step - loss: 0.3858 - accuracy: 0.8434 - val_loss: 0.4130 - val_accuracy: 0.8315\n",
            "Epoch 98/100\n",
            "168/168 [==============================] - 0s 2ms/step - loss: 0.3864 - accuracy: 0.8433 - val_loss: 0.4126 - val_accuracy: 0.8315\n",
            "Epoch 99/100\n",
            "168/168 [==============================] - 0s 2ms/step - loss: 0.3862 - accuracy: 0.8457 - val_loss: 0.4121 - val_accuracy: 0.8330\n",
            "Epoch 100/100\n",
            "168/168 [==============================] - 0s 2ms/step - loss: 0.3862 - accuracy: 0.8438 - val_loss: 0.4110 - val_accuracy: 0.8323\n"
          ]
        },
        {
          "output_type": "execute_result",
          "data": {
            "text/plain": [
              "<keras.callbacks.History at 0x7fb94c921390>"
            ]
          },
          "metadata": {},
          "execution_count": 45
        }
      ],
      "source": [
        "##Fiting the ann to the training set\n",
        "ann_clf.fit(X_train,y_train,validation_split=0.33,batch_size=32,epochs=100)"
      ]
    },
    {
      "cell_type": "code",
      "execution_count": null,
      "id": "e164623b-5922-4921-ab88-592204a8e915",
      "metadata": {
        "colab": {
          "base_uri": "https://localhost:8080/"
        },
        "id": "e164623b-5922-4921-ab88-592204a8e915",
        "outputId": "0c0224ad-b388-4423-809e-0921d6cec016"
      },
      "outputs": [
        {
          "output_type": "stream",
          "name": "stdout",
          "text": [
            "63/63 [==============================] - 0s 948us/step\n"
          ]
        }
      ],
      "source": [
        "# Predicting the Test set results\n",
        "y_pred = ann_clf.predict(X_test)"
      ]
    },
    {
      "cell_type": "code",
      "execution_count": null,
      "id": "13228c76-4339-43ab-b800-9dd6496161c2",
      "metadata": {
        "colab": {
          "base_uri": "https://localhost:8080/"
        },
        "id": "13228c76-4339-43ab-b800-9dd6496161c2",
        "outputId": "92c1cbd1-7af6-4f5b-e824-7bb98478c320"
      },
      "outputs": [
        {
          "output_type": "execute_result",
          "data": {
            "text/plain": [
              "array([[0.12831579],\n",
              "       [0.05467479],\n",
              "       [0.28443012],\n",
              "       ...,\n",
              "       [0.3833999 ],\n",
              "       [0.03681032],\n",
              "       [0.11266263]], dtype=float32)"
            ]
          },
          "metadata": {},
          "execution_count": 47
        }
      ],
      "source": [
        "y_pred"
      ]
    },
    {
      "cell_type": "code",
      "execution_count": null,
      "id": "12fbf33b-c8d5-4f3b-9c05-7e939fe8c638",
      "metadata": {
        "id": "12fbf33b-c8d5-4f3b-9c05-7e939fe8c638"
      },
      "outputs": [],
      "source": [
        "y_pred = (y_pred > 0.5)"
      ]
    },
    {
      "cell_type": "code",
      "execution_count": null,
      "id": "dab7e3fe-511f-47d1-9da7-dc61241528d4",
      "metadata": {
        "colab": {
          "base_uri": "https://localhost:8080/"
        },
        "id": "dab7e3fe-511f-47d1-9da7-dc61241528d4",
        "outputId": "6cb127fe-c305-4e6c-e915-43a09d199fd9"
      },
      "outputs": [
        {
          "output_type": "execute_result",
          "data": {
            "text/plain": [
              "array([[False],\n",
              "       [False],\n",
              "       [False],\n",
              "       ...,\n",
              "       [False],\n",
              "       [False],\n",
              "       [False]])"
            ]
          },
          "metadata": {},
          "execution_count": 49
        }
      ],
      "source": [
        "y_pred"
      ]
    },
    {
      "cell_type": "markdown",
      "id": "b206ee5d-69e1-4005-8019-b796aed939c9",
      "metadata": {
        "id": "b206ee5d-69e1-4005-8019-b796aed939c9"
      },
      "source": [
        "## Confusion matrix"
      ]
    },
    {
      "cell_type": "code",
      "execution_count": null,
      "id": "cc877cbb-b2c9-4fa4-8290-2f9f175a3d1c",
      "metadata": {
        "colab": {
          "base_uri": "https://localhost:8080/"
        },
        "id": "cc877cbb-b2c9-4fa4-8290-2f9f175a3d1c",
        "outputId": "ceb91933-c129-435b-c831-c056125aa862"
      },
      "outputs": [
        {
          "output_type": "execute_result",
          "data": {
            "text/plain": [
              "array([[1552,   55],\n",
              "       [ 268,  125]])"
            ]
          },
          "metadata": {},
          "execution_count": 50
        }
      ],
      "source": [
        "from sklearn.metrics import confusion_matrix, accuracy_score\n",
        "cm=confusion_matrix(y_test,y_pred)\n",
        "cm"
      ]
    },
    {
      "cell_type": "markdown",
      "id": "fad95fe7-1d55-4089-958f-50550784b2b1",
      "metadata": {
        "id": "fad95fe7-1d55-4089-958f-50550784b2b1"
      },
      "source": [
        "## Accuracy"
      ]
    },
    {
      "cell_type": "code",
      "execution_count": null,
      "id": "6b4a583e-052e-4b60-83fa-41a440ca73dc",
      "metadata": {
        "colab": {
          "base_uri": "https://localhost:8080/"
        },
        "id": "6b4a583e-052e-4b60-83fa-41a440ca73dc",
        "outputId": "df222d6c-9db0-409d-87a8-e2749a34f582"
      },
      "outputs": [
        {
          "output_type": "execute_result",
          "data": {
            "text/plain": [
              "0.8385"
            ]
          },
          "metadata": {},
          "execution_count": 51
        }
      ],
      "source": [
        "accuracy=accuracy_score(y_test,y_pred)\n",
        "accuracy"
      ]
    },
    {
      "cell_type": "markdown",
      "source": [
        "http://churnmodeling.pythonanywhere.com/"
      ],
      "metadata": {
        "id": "OOmSIr6u7kc4"
      },
      "id": "OOmSIr6u7kc4"
    }
  ],
  "metadata": {
    "kernelspec": {
      "display_name": "Python 3",
      "language": "python",
      "name": "python3"
    },
    "language_info": {
      "codemirror_mode": {
        "name": "ipython",
        "version": 3
      },
      "file_extension": ".py",
      "mimetype": "text/x-python",
      "name": "python",
      "nbconvert_exporter": "python",
      "pygments_lexer": "ipython3",
      "version": "3.8.8"
    },
    "colab": {
      "provenance": [],
      "include_colab_link": true
    }
  },
  "nbformat": 4,
  "nbformat_minor": 5
}